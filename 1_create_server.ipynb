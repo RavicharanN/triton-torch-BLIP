{
 "cells": [
  {
   "cell_type": "markdown",
   "metadata": {},
   "source": [
    "## Bring up a GPU server\n",
    "\n",
    "At the beginning of the lease time, we will bring up our GPU server. We will use the `python-chi` Python API to Chameleon to provision our server.\n",
    "\n",
    "We will execute the cells in this notebook inside the Chameleon Jupyter environment."
   ]
  },
  {
   "cell_type": "code",
   "execution_count": 1,
   "metadata": {
    "tags": []
   },
   "outputs": [
    {
     "data": {
      "application/vnd.jupyter.widget-view+json": {
       "model_id": "b9a37efd1ace4c41b6755bbdfb2282f6",
       "version_major": 2,
       "version_minor": 0
      },
      "text/plain": [
       "VBox(children=(Dropdown(description='Select Project', options=('CHI-251409', 'CHI-231138'), value='CHI-251409'…"
      ]
     },
     "metadata": {},
     "output_type": "display_data"
    },
    {
     "data": {
      "application/vnd.jupyter.widget-view+json": {
       "model_id": "00753442b8004ab580f751724bd83331",
       "version_major": 2,
       "version_minor": 0
      },
      "text/plain": [
       "VBox(children=(Dropdown(description='Select Site', options=('CHI@TACC', 'CHI@UC', 'CHI@EVL', 'CHI@NCAR', 'CHI@…"
      ]
     },
     "metadata": {},
     "output_type": "display_data"
    }
   ],
   "source": [
    "from chi import server, context, lease\n",
    "import os\n",
    "\n",
    "context.version = \"1.0\"\n",
    "context.choose_project()\n",
    "context.choose_site(default=\"CHI@TACC\")"
   ]
  },
  {
   "cell_type": "markdown",
   "metadata": {},
   "source": [
    "Change the string in the following cell to reflect the name of *your* lease, then run it to get your lease:"
   ]
  },
  {
   "cell_type": "code",
   "execution_count": 3,
   "metadata": {
    "tags": []
   },
   "outputs": [
    {
     "data": {
      "application/vnd.jupyter.widget-view+json": {
       "model_id": "cd423bcf25d94f408421fddadabe66e1",
       "version_major": 2,
       "version_minor": 0
      },
      "text/plain": [
       "HTML(value='\\n        <h2>Lease Details</h2>\\n        <table>\\n            <tr><th>Name</th><td>gpu_p100_vn223…"
      ]
     },
     "metadata": {},
     "output_type": "display_data"
    },
    {
     "name": "stdout",
     "output_type": "stream",
     "text": [
      "Lease Details:\n",
      "Name: gpu_p100_vn2233_2\n",
      "ID: 3fdaa588-fba4-43b1-a8d8-9f596c64bb42\n",
      "Status: ACTIVE\n",
      "Start Date: 2025-02-27 17:20:00\n",
      "End Date: 2025-02-28 17:19:00\n",
      "User ID: fdb83aeea9e3eea047be316dd391717e977e5b381886f673cabf905e84e48a3b\n",
      "Project ID: 477960c4206444c3a77b9e4ffa281ade\n",
      "\n",
      "Node Reservations:\n",
      "ID: 4db33479-c4ea-4f8e-8537-0fc3527471d8, Status: active, Min: 1, Max: 1\n",
      "\n",
      "Floating IP Reservations:\n",
      "\n",
      "Network Reservations:\n",
      "\n",
      "Events:\n"
     ]
    }
   ],
   "source": [
    "l = lease.get_lease(f\"gpu_p100_vn2233_2\")\n",
    "l.show()"
   ]
  },
  {
   "cell_type": "markdown",
   "metadata": {},
   "source": [
    "The status should show as “ACTIVE” now that we are past the lease start time."
   ]
  },
  {
   "cell_type": "markdown",
   "metadata": {},
   "source": [
    "We will use this lease to bring up a server with the `CC-Ubuntu24.04-CUDA` disk image. This will take up to 10 minutes.\n",
    "\n",
    "Note: security groups are not used at Chameleon bare metal sites, so we do not have to configure any security groups on this instance."
   ]
  },
  {
   "cell_type": "code",
   "execution_count": 4,
   "metadata": {
    "tags": []
   },
   "outputs": [
    {
     "name": "stdout",
     "output_type": "stream",
     "text": [
      "Waiting for server multi_gpu-vn2233_nyu_edu-nyu's status to become ACTIVE. This typically takes 10 minutes, but can take up to 20 minutes.\n"
     ]
    },
    {
     "data": {
      "application/vnd.jupyter.widget-view+json": {
       "model_id": "34fb73fda31642ef8166bfaf8b66b0e2",
       "version_major": 2,
       "version_minor": 0
      },
      "text/plain": [
       "HBox(children=(Label(value=''), IntProgress(value=0, bar_style='success')))"
      ]
     },
     "metadata": {},
     "output_type": "display_data"
    },
    {
     "name": "stdout",
     "output_type": "stream",
     "text": [
      "Server has moved to status ACTIVE\n"
     ]
    },
    {
     "data": {
      "text/html": [
       "<table style='border-collapse: collapse; width: 100%;'><tr style='background-color: #f2f2f2;'><th style='border: 1px solid #ddd; padding: 8px;'>Attribute</th><th style='border: 1px solid #ddd; padding: 8px;'>multi_gpu-vn2233_nyu_edu-nyu</th></tr><tr><td style='border: 1px solid #ddd; padding: 8px;'>Id</td><td style='border: 1px solid #ddd; padding: 8px;'>b178771d-3ac7-402c-a7da-c84cb16739b0</td></tr><tr><td style='border: 1px solid #ddd; padding: 8px;'>Status</td><td style='border: 1px solid #ddd; padding: 8px;'>ACTIVE</td></tr><tr><td style='border: 1px solid #ddd; padding: 8px;'>Image Name</td><td style='border: 1px solid #ddd; padding: 8px;'>CC-Ubuntu24.04-CUDA</td></tr><tr><td style='border: 1px solid #ddd; padding: 8px;'>Flavor Name</td><td style='border: 1px solid #ddd; padding: 8px;'>baremetal</td></tr><tr><td style='border: 1px solid #ddd; padding: 8px;'>Addresses</td><td style='border: 1px solid #ddd; padding: 8px;'><strong>sharednet1:</strong><br>&nbsp;&nbsp;IP: 10.52.3.224 (v4)<br>&nbsp;&nbsp;Type: fixed<br>&nbsp;&nbsp;MAC: 44:a8:42:26:54:1f<br></td></tr><tr><td style='border: 1px solid #ddd; padding: 8px;'>Network Name</td><td style='border: 1px solid #ddd; padding: 8px;'>sharednet1</td></tr><tr><td style='border: 1px solid #ddd; padding: 8px;'>Created At</td><td style='border: 1px solid #ddd; padding: 8px;'>2025-02-27T17:20:57Z</td></tr><tr><td style='border: 1px solid #ddd; padding: 8px;'>Keypair</td><td style='border: 1px solid #ddd; padding: 8px;'>vn2233_nyu_edu-jupyter</td></tr><tr><td style='border: 1px solid #ddd; padding: 8px;'>Reservation Id</td><td style='border: 1px solid #ddd; padding: 8px;'>4db33479-c4ea-4f8e-8537-0fc3527471d8</td></tr><tr><td style='border: 1px solid #ddd; padding: 8px;'>Host Id</td><td style='border: 1px solid #ddd; padding: 8px;'>7c346a87f6e9c6f9d67fb076fe5d76102c3a39bab2eac416bf31a8b7</td></tr><tr><td style='border: 1px solid #ddd; padding: 8px;'>Host Status</td><td style='border: 1px solid #ddd; padding: 8px;'>None</td></tr><tr><td style='border: 1px solid #ddd; padding: 8px;'>Hypervisor Hostname</td><td style='border: 1px solid #ddd; padding: 8px;'>22805a4a-e695-4b48-86b9-bcf5cd2074de</td></tr><tr><td style='border: 1px solid #ddd; padding: 8px;'>Is Locked</td><td style='border: 1px solid #ddd; padding: 8px;'>False</td></tr></table>"
      ],
      "text/plain": [
       "<IPython.core.display.HTML object>"
      ]
     },
     "metadata": {},
     "output_type": "display_data"
    }
   ],
   "source": [
    "username = os.getenv('USER') # all exp resources will have this prefix\n",
    "s = server.Server(\n",
    "    f\"multi_gpu-{username}-nyu\", \n",
    "    reservation_id=l.node_reservations[0][\"id\"],\n",
    "    image_name=\"CC-Ubuntu24.04-CUDA\"\n",
    ")\n",
    "s.submit(idempotent=True)"
   ]
  },
  {
   "cell_type": "markdown",
   "metadata": {},
   "source": [
    "Then, we’ll associate a floating IP with the instance, so that we can access it over SSH."
   ]
  },
  {
   "cell_type": "code",
   "execution_count": 5,
   "metadata": {
    "tags": []
   },
   "outputs": [],
   "source": [
    "s.associate_floating_ip()"
   ]
  },
  {
   "cell_type": "code",
   "execution_count": 6,
   "metadata": {
    "tags": []
   },
   "outputs": [
    {
     "name": "stdout",
     "output_type": "stream",
     "text": [
      "Checking connectivity to 129.114.108.65 port 22.\n"
     ]
    },
    {
     "data": {
      "application/vnd.jupyter.widget-view+json": {
       "model_id": "42cab0cd1e7b46d5b3f6cd847aceefdd",
       "version_major": 2,
       "version_minor": 0
      },
      "text/plain": [
       "HBox(children=(Label(value=''), IntProgress(value=0, bar_style='success')))"
      ]
     },
     "metadata": {},
     "output_type": "display_data"
    },
    {
     "name": "stdout",
     "output_type": "stream",
     "text": [
      "Connection successful\n"
     ]
    }
   ],
   "source": [
    "s.refresh()\n",
    "s.check_connectivity()"
   ]
  },
  {
   "cell_type": "code",
   "execution_count": 7,
   "metadata": {
    "tags": []
   },
   "outputs": [
    {
     "data": {
      "text/html": [
       "<table style='border-collapse: collapse; width: 100%;'><tr style='background-color: #f2f2f2;'><th style='border: 1px solid #ddd; padding: 8px;'>Attribute</th><th style='border: 1px solid #ddd; padding: 8px;'>multi_gpu-vn2233_nyu_edu-nyu</th></tr><tr><td style='border: 1px solid #ddd; padding: 8px;'>Id</td><td style='border: 1px solid #ddd; padding: 8px;'>b178771d-3ac7-402c-a7da-c84cb16739b0</td></tr><tr><td style='border: 1px solid #ddd; padding: 8px;'>Status</td><td style='border: 1px solid #ddd; padding: 8px;'>ACTIVE</td></tr><tr><td style='border: 1px solid #ddd; padding: 8px;'>Image Name</td><td style='border: 1px solid #ddd; padding: 8px;'>CC-Ubuntu24.04-CUDA</td></tr><tr><td style='border: 1px solid #ddd; padding: 8px;'>Flavor Name</td><td style='border: 1px solid #ddd; padding: 8px;'>baremetal</td></tr><tr><td style='border: 1px solid #ddd; padding: 8px;'>Addresses</td><td style='border: 1px solid #ddd; padding: 8px;'><strong>sharednet1:</strong><br>&nbsp;&nbsp;IP: 10.52.3.224 (v4)<br>&nbsp;&nbsp;Type: fixed<br>&nbsp;&nbsp;MAC: 44:a8:42:26:54:1f<br>&nbsp;&nbsp;IP: 129.114.108.65 (v4)<br>&nbsp;&nbsp;Type: floating<br>&nbsp;&nbsp;MAC: 44:a8:42:26:54:1f<br></td></tr><tr><td style='border: 1px solid #ddd; padding: 8px;'>Network Name</td><td style='border: 1px solid #ddd; padding: 8px;'>sharednet1</td></tr><tr><td style='border: 1px solid #ddd; padding: 8px;'>Created At</td><td style='border: 1px solid #ddd; padding: 8px;'>2025-02-27T17:20:57Z</td></tr><tr><td style='border: 1px solid #ddd; padding: 8px;'>Keypair</td><td style='border: 1px solid #ddd; padding: 8px;'>vn2233_nyu_edu-jupyter</td></tr><tr><td style='border: 1px solid #ddd; padding: 8px;'>Reservation Id</td><td style='border: 1px solid #ddd; padding: 8px;'>4db33479-c4ea-4f8e-8537-0fc3527471d8</td></tr><tr><td style='border: 1px solid #ddd; padding: 8px;'>Host Id</td><td style='border: 1px solid #ddd; padding: 8px;'>7c346a87f6e9c6f9d67fb076fe5d76102c3a39bab2eac416bf31a8b7</td></tr><tr><td style='border: 1px solid #ddd; padding: 8px;'>Host Status</td><td style='border: 1px solid #ddd; padding: 8px;'>None</td></tr><tr><td style='border: 1px solid #ddd; padding: 8px;'>Hypervisor Hostname</td><td style='border: 1px solid #ddd; padding: 8px;'>22805a4a-e695-4b48-86b9-bcf5cd2074de</td></tr><tr><td style='border: 1px solid #ddd; padding: 8px;'>Is Locked</td><td style='border: 1px solid #ddd; padding: 8px;'>False</td></tr></table>"
      ],
      "text/plain": [
       "<IPython.core.display.HTML object>"
      ]
     },
     "metadata": {},
     "output_type": "display_data"
    }
   ],
   "source": [
    "s.refresh()\n",
    "s.show(type=\"widget\")"
   ]
  },
  {
   "cell_type": "markdown",
   "metadata": {},
   "source": [
    "## Set up Docker\n",
    "\n",
    "To use common deep learning frameworks like Tensorflow or PyTorch, we can run containers that have all the prerequisite libraries necessary for these frameworks. Here, we will set up the container framework."
   ]
  },
  {
   "cell_type": "code",
   "execution_count": 8,
   "metadata": {
    "tags": []
   },
   "outputs": [
    {
     "name": "stderr",
     "output_type": "stream",
     "text": [
      "/opt/conda/lib/python3.10/site-packages/paramiko/client.py:889: UserWarning: Unknown ssh-ed25519 host key for 129.114.108.65: b'41e5025b3b391c9688c876ab2c4e4ac4'\n",
      "  warnings.warn(\n"
     ]
    },
    {
     "name": "stdout",
     "output_type": "stream",
     "text": [
      "# Executing docker install script, commit: 4c94a56999e10efcf48c5b8e3f6afea464f9108e\n"
     ]
    },
    {
     "name": "stderr",
     "output_type": "stream",
     "text": [
      "+ sh -c apt-get -qq update >/dev/null\n",
      "+ sh -c DEBIAN_FRONTEND=noninteractive apt-get -y -qq install ca-certificates curl >/dev/null\n",
      "\n",
      "Running kernel seems to be up-to-date.\n",
      "\n",
      "The processor microcode seems to be up-to-date.\n",
      "\n",
      "Restarting services...\n",
      " systemctl restart packagekit.service\n",
      "\n",
      "No containers need to be restarted.\n",
      "\n",
      "No user sessions are running outdated binaries.\n",
      "\n",
      "No VM guests are running outdated hypervisor (qemu) binaries on this host.\n",
      "+ sh -c install -m 0755 -d /etc/apt/keyrings\n",
      "+ sh -c curl -fsSL \"https://download.docker.com/linux/ubuntu/gpg\" -o /etc/apt/keyrings/docker.asc\n",
      "+ sh -c chmod a+r /etc/apt/keyrings/docker.asc\n",
      "+ sh -c echo \"deb [arch=amd64 signed-by=/etc/apt/keyrings/docker.asc] https://download.docker.com/linux/ubuntu noble stable\" > /etc/apt/sources.list.d/docker.list\n",
      "+ sh -c apt-get -qq update >/dev/null\n",
      "+ sh -c DEBIAN_FRONTEND=noninteractive apt-get -y -qq install docker-ce docker-ce-cli containerd.io docker-compose-plugin docker-ce-rootless-extras docker-buildx-plugin >/dev/null\n",
      "\n",
      "Running kernel seems to be up-to-date.\n",
      "\n",
      "The processor microcode seems to be up-to-date.\n",
      "\n",
      "No services need to be restarted.\n",
      "\n",
      "No containers need to be restarted.\n",
      "\n",
      "No user sessions are running outdated binaries.\n",
      "\n",
      "No VM guests are running outdated hypervisor (qemu) binaries on this host.\n",
      "+ sh -c docker version\n"
     ]
    },
    {
     "name": "stdout",
     "output_type": "stream",
     "text": [
      "Client: Docker Engine - Community\n",
      " Version:           28.0.1\n",
      " API version:       1.48\n",
      " Go version:        go1.23.6\n",
      " Git commit:        068a01e\n",
      " Built:             Wed Feb 26 10:41:12 2025\n",
      " OS/Arch:           linux/amd64\n",
      " Context:           default\n",
      "\n",
      "Server: Docker Engine - Community\n",
      " Engine:\n",
      "  Version:          28.0.1\n",
      "  API version:      1.48 (minimum version 1.24)\n",
      "  Go version:       go1.23.6\n",
      "  Git commit:       bbd0a17\n",
      "  Built:            Wed Feb 26 10:41:12 2025\n",
      "  OS/Arch:          linux/amd64\n",
      "  Experimental:     false\n",
      " containerd:\n",
      "  Version:          1.7.25\n",
      "  GitCommit:        bcc810d6b9066471b0b6fa75f557a15a1cbf31bb\n",
      " runc:\n",
      "  Version:          1.2.4\n",
      "  GitCommit:        v1.2.4-0-g6c52b3f\n",
      " docker-init:\n",
      "  Version:          0.19.0\n",
      "  GitCommit:        de40ad0\n",
      "\n",
      "================================================================================\n",
      "\n",
      "To run Docker as a non-privileged user, consider setting up the\n",
      "Docker daemon in rootless mode for your user:\n",
      "\n",
      "    dockerd-rootless-setuptool.sh install\n",
      "\n",
      "Visit https://docs.docker.com/go/rootless/ to learn about rootless mode.\n",
      "\n",
      "\n",
      "To run the Docker daemon as a fully privileged service, but granting non-root\n",
      "users access, refer to https://docs.docker.com/go/daemon-access/\n",
      "\n",
      "WARNING: Access to the remote API on a privileged Docker daemon is equivalent\n",
      "         to root access on the host. Refer to the 'Docker daemon attack surface'\n",
      "         documentation for details: https://docs.docker.com/go/attack-surface/\n",
      "\n",
      "================================================================================\n",
      "\n"
     ]
    },
    {
     "name": "stderr",
     "output_type": "stream",
     "text": [
      "Unable to find image 'hello-world:latest' locally\n",
      "latest: Pulling from library/hello-world\n",
      "e6590344b1a5: Pulling fs layer\n",
      "e6590344b1a5: Verifying Checksum\n",
      "e6590344b1a5: Download complete\n",
      "e6590344b1a5: Pull complete\n",
      "Digest: sha256:e0b569a5163a5e6be84e210a2587e7d447e08f87a0e90798363fa44a0464a1e8\n",
      "Status: Downloaded newer image for hello-world:latest\n"
     ]
    },
    {
     "name": "stdout",
     "output_type": "stream",
     "text": [
      "\n",
      "Hello from Docker!\n",
      "This message shows that your installation appears to be working correctly.\n",
      "\n",
      "To generate this message, Docker took the following steps:\n",
      " 1. The Docker client contacted the Docker daemon.\n",
      " 2. The Docker daemon pulled the \"hello-world\" image from the Docker Hub.\n",
      "    (amd64)\n",
      " 3. The Docker daemon created a new container from that image which runs the\n",
      "    executable that produces the output you are currently reading.\n",
      " 4. The Docker daemon streamed that output to the Docker client, which sent it\n",
      "    to your terminal.\n",
      "\n",
      "To try something more ambitious, you can run an Ubuntu container with:\n",
      " $ docker run -it ubuntu bash\n",
      "\n",
      "Share images, automate workflows, and more with a free Docker ID:\n",
      " https://hub.docker.com/\n",
      "\n",
      "For more examples and ideas, visit:\n",
      " https://docs.docker.com/get-started/\n",
      "\n"
     ]
    },
    {
     "data": {
      "text/plain": [
       "<Result cmd='docker run hello-world' exited=0>"
      ]
     },
     "execution_count": 8,
     "metadata": {},
     "output_type": "execute_result"
    }
   ],
   "source": [
    "s.execute(\"curl -sSL https://get.docker.com/ | sudo sh\")\n",
    "s.execute(\"sudo groupadd -f docker; sudo usermod -aG docker $USER\")\n",
    "s.execute(\"docker run hello-world\")"
   ]
  },
  {
   "cell_type": "markdown",
   "metadata": {},
   "source": [
    "We will also install the NVIDIA container toolkit, with which we can access GPUs from inside our containers."
   ]
  },
  {
   "cell_type": "code",
   "execution_count": 28,
   "metadata": {
    "tags": []
   },
   "outputs": [
    {
     "name": "stdout",
     "output_type": "stream",
     "text": [
      "deb [signed-by=/usr/share/keyrings/nvidia-container-toolkit-keyring.gpg] https://nvidia.github.io/libnvidia-container/stable/deb/$(ARCH) /\n",
      "#deb [signed-by=/usr/share/keyrings/nvidia-container-toolkit-keyring.gpg] https://nvidia.github.io/libnvidia-container/experimental/deb/$(ARCH) /\n"
     ]
    },
    {
     "name": "stderr",
     "output_type": "stream",
     "text": [
      "\n",
      "WARNING: apt does not have a stable CLI interface. Use with caution in scripts.\n",
      "\n"
     ]
    },
    {
     "name": "stdout",
     "output_type": "stream",
     "text": [
      "Get:1 https://nvidia.github.io/libnvidia-container/stable/deb/amd64  InRelease [1477 B]\n",
      "Hit:2 http://security.ubuntu.com/ubuntu noble-security InRelease\n",
      "Hit:3 https://download.docker.com/linux/ubuntu noble InRelease\n",
      "Get:4 http://nova.clouds.archive.ubuntu.com/ubuntu noble InRelease [256 kB]\n",
      "Get:5 https://nvidia.github.io/libnvidia-container/stable/deb/amd64  Packages [16.7 kB]\n",
      "Hit:6 https://developer.download.nvidia.com/compute/cuda/repos/ubuntu2404/x86_64  InRelease\n",
      "Get:7 http://nova.clouds.archive.ubuntu.com/ubuntu noble-updates InRelease [126 kB]\n",
      "Hit:8 http://nova.clouds.archive.ubuntu.com/ubuntu noble-backports InRelease\n",
      "Fetched 400 kB in 1s (360 kB/s)\n",
      "Reading package lists...\n",
      "Building dependency tree...\n",
      "Reading state information...\n",
      "241 packages can be upgraded. Run 'apt list --upgradable' to see them.\n",
      "Reading package lists...\n",
      "Building dependency tree...\n",
      "Reading state information...\n",
      "The following additional packages will be installed:\n",
      "  libnvidia-container-tools libnvidia-container1 nvidia-container-toolkit-base\n",
      "The following NEW packages will be installed:\n",
      "  libnvidia-container-tools libnvidia-container1 nvidia-container-toolkit\n",
      "  nvidia-container-toolkit-base\n",
      "0 upgraded, 4 newly installed, 0 to remove and 241 not upgraded.\n",
      "Need to get 5811 kB of archives.\n",
      "After this operation, 27.7 MB of additional disk space will be used.\n",
      "Get:1 https://developer.download.nvidia.com/compute/cuda/repos/ubuntu2404/x86_64  libnvidia-container1 1.17.4-1 [926 kB]\n",
      "Get:2 https://developer.download.nvidia.com/compute/cuda/repos/ubuntu2404/x86_64  libnvidia-container-tools 1.17.4-1 [21.5 kB]\n",
      "Get:3 https://developer.download.nvidia.com/compute/cuda/repos/ubuntu2404/x86_64  nvidia-container-toolkit-base 1.17.4-1 [3674 kB]\n",
      "Get:4 https://developer.download.nvidia.com/compute/cuda/repos/ubuntu2404/x86_64  nvidia-container-toolkit 1.17.4-1 [1189 kB]\n"
     ]
    },
    {
     "name": "stderr",
     "output_type": "stream",
     "text": [
      "debconf: unable to initialize frontend: Dialog\n",
      "debconf: (Dialog frontend will not work on a dumb terminal, an emacs shell buffer, or without a controlling terminal.)\n",
      "debconf: falling back to frontend: Readline\n",
      "debconf: unable to initialize frontend: Readline\n",
      "debconf: (This frontend requires a controlling tty.)\n",
      "debconf: falling back to frontend: Teletype\n",
      "dpkg-preconfigure: unable to re-open stdin: \n"
     ]
    },
    {
     "name": "stdout",
     "output_type": "stream",
     "text": [
      "Fetched 5811 kB in 0s (19.2 MB/s)\n",
      "Selecting previously unselected package libnvidia-container1:amd64.\n",
      "(Reading database ... 110603 files and directories currently installed.)\n",
      "Preparing to unpack .../libnvidia-container1_1.17.4-1_amd64.deb ...\n",
      "Unpacking libnvidia-container1:amd64 (1.17.4-1) ...\n",
      "Selecting previously unselected package libnvidia-container-tools.\n",
      "Preparing to unpack .../libnvidia-container-tools_1.17.4-1_amd64.deb ...\n",
      "Unpacking libnvidia-container-tools (1.17.4-1) ...\n",
      "Selecting previously unselected package nvidia-container-toolkit-base.\n",
      "Preparing to unpack .../nvidia-container-toolkit-base_1.17.4-1_amd64.deb ...\n",
      "Unpacking nvidia-container-toolkit-base (1.17.4-1) ...\n",
      "Selecting previously unselected package nvidia-container-toolkit.\n",
      "Preparing to unpack .../nvidia-container-toolkit_1.17.4-1_amd64.deb ...\n",
      "Unpacking nvidia-container-toolkit (1.17.4-1) ...\n",
      "Setting up nvidia-container-toolkit-base (1.17.4-1) ...\n",
      "Setting up libnvidia-container1:amd64 (1.17.4-1) ...\n",
      "Setting up libnvidia-container-tools (1.17.4-1) ...\n",
      "Setting up nvidia-container-toolkit (1.17.4-1) ...\n",
      "Processing triggers for libc-bin (2.39-0ubuntu8.3) ...\n"
     ]
    },
    {
     "name": "stderr",
     "output_type": "stream",
     "text": [
      "debconf: unable to initialize frontend: Dialog\n",
      "debconf: (Dialog frontend will not work on a dumb terminal, an emacs shell buffer, or without a controlling terminal.)\n",
      "debconf: falling back to frontend: Readline\n",
      "debconf: unable to initialize frontend: Readline\n",
      "debconf: (This frontend requires a controlling tty.)\n",
      "debconf: falling back to frontend: Teletype\n",
      "\n",
      "Running kernel seems to be up-to-date.\n",
      "\n",
      "The processor microcode seems to be up-to-date.\n",
      "\n",
      "No services need to be restarted.\n",
      "\n",
      "No containers need to be restarted.\n",
      "\n",
      "No user sessions are running outdated binaries.\n",
      "\n",
      "No VM guests are running outdated hypervisor (qemu) binaries on this host.\n",
      "time=\"2025-02-26T23:06:11Z\" level=info msg=\"Config file does not exist; using empty config\"\n",
      "time=\"2025-02-26T23:06:11Z\" level=info msg=\"Wrote updated config to /etc/docker/daemon.json\"\n",
      "time=\"2025-02-26T23:06:11Z\" level=info msg=\"It is recommended that docker daemon be restarted.\"\n"
     ]
    },
    {
     "data": {
      "text/plain": [
       "<Result cmd='sudo systemctl restart docker' exited=0>"
      ]
     },
     "execution_count": 28,
     "metadata": {},
     "output_type": "execute_result"
    }
   ],
   "source": [
    "# get NVIDIA container toolkit \n",
    "s.execute(\"curl -fsSL https://nvidia.github.io/libnvidia-container/gpgkey | sudo gpg --dearmor -o /usr/share/keyrings/nvidia-container-toolkit-keyring.gpg \\\n",
    "  && curl -s -L https://nvidia.github.io/libnvidia-container/stable/deb/nvidia-container-toolkit.list | \\\n",
    "    sed 's#deb https://#deb [signed-by=/usr/share/keyrings/nvidia-container-toolkit-keyring.gpg] https://#g' | \\\n",
    "    sudo tee /etc/apt/sources.list.d/nvidia-container-toolkit.list\")\n",
    "s.execute(\"sudo apt update\")\n",
    "s.execute(\"sudo apt-get install -y nvidia-container-toolkit\")\n",
    "s.execute(\"sudo nvidia-ctk runtime configure --runtime=docker\")\n",
    "s.execute(\"sudo systemctl restart docker\")"
   ]
  },
  {
   "cell_type": "markdown",
   "metadata": {},
   "source": [
    "## Cuda Execution Provider"
   ]
  },
  {
   "cell_type": "code",
   "execution_count": 9,
   "metadata": {
    "tags": []
   },
   "outputs": [
    {
     "name": "stderr",
     "output_type": "stream",
     "text": [
      "--2025-02-27 17:43:01--  https://developer.download.nvidia.com/compute/cuda/repos/ubuntu2404/x86_64/cuda-keyring_1.1-1_all.deb\n",
      "Resolving developer.download.nvidia.com (developer.download.nvidia.com)... 23.221.22.214, 23.221.22.203, 23.221.22.217\n",
      "Connecting to developer.download.nvidia.com (developer.download.nvidia.com)|23.221.22.214|:443... connected.\n",
      "HTTP request sent, awaiting response... 200 OK\n",
      "Length: 4328 (4.2K) [application/x-deb]\n",
      "Saving to: ‘cuda-keyring_1.1-1_all.deb’\n",
      "\n",
      "     0K ....                                                  100%  186M=0s\n",
      "\n",
      "2025-02-27 17:43:01 (186 MB/s) - ‘cuda-keyring_1.1-1_all.deb’ saved [4328/4328]\n",
      "\n"
     ]
    },
    {
     "data": {
      "text/plain": [
       "<Result cmd='wget https://developer.download.nvidia.com/compute/cuda/repos/ubuntu2404/x86_64/cuda-keyring_1.1-1_all.deb' exited=0>"
      ]
     },
     "execution_count": 9,
     "metadata": {},
     "output_type": "execute_result"
    }
   ],
   "source": [
    "s.execute(\"wget https://developer.download.nvidia.com/compute/cuda/repos/ubuntu2404/x86_64/cuda-keyring_1.1-1_all.deb\")"
   ]
  },
  {
   "cell_type": "code",
   "execution_count": 10,
   "metadata": {
    "tags": []
   },
   "outputs": [
    {
     "name": "stdout",
     "output_type": "stream",
     "text": [
      "(Reading database ... 110603 files and directories currently installed.)\n",
      "Preparing to unpack cuda-keyring_1.1-1_all.deb ...\n",
      "Unpacking cuda-keyring (1.1-1) over (1.1-1) ...\n",
      "Setting up cuda-keyring (1.1-1) ...\n",
      "Hit:1 https://download.docker.com/linux/ubuntu noble InRelease\n",
      "Hit:2 https://developer.download.nvidia.com/compute/cuda/repos/ubuntu2404/x86_64  InRelease\n",
      "Get:3 http://nova.clouds.archive.ubuntu.com/ubuntu noble InRelease [256 kB]\n",
      "Hit:4 http://security.ubuntu.com/ubuntu noble-security InRelease\n",
      "Get:5 http://nova.clouds.archive.ubuntu.com/ubuntu noble-updates InRelease [126 kB]\n",
      "Get:6 http://nova.clouds.archive.ubuntu.com/ubuntu noble-backports InRelease [126 kB]\n",
      "Get:7 http://nova.clouds.archive.ubuntu.com/ubuntu noble-updates/main amd64 Packages [883 kB]\n",
      "Get:8 http://nova.clouds.archive.ubuntu.com/ubuntu noble-updates/main amd64 Components [151 kB]\n",
      "Get:9 http://nova.clouds.archive.ubuntu.com/ubuntu noble-updates/universe amd64 Packages [1026 kB]\n",
      "Get:10 http://nova.clouds.archive.ubuntu.com/ubuntu noble-updates/universe amd64 Components [363 kB]\n",
      "Get:11 http://nova.clouds.archive.ubuntu.com/ubuntu noble-updates/restricted amd64 Components [212 B]\n",
      "Get:12 http://nova.clouds.archive.ubuntu.com/ubuntu noble-updates/multiverse amd64 Components [940 B]\n",
      "Get:13 http://nova.clouds.archive.ubuntu.com/ubuntu noble-backports/main amd64 Components [208 B]\n",
      "Get:14 http://nova.clouds.archive.ubuntu.com/ubuntu noble-backports/universe amd64 Components [20.0 kB]\n",
      "Get:15 http://nova.clouds.archive.ubuntu.com/ubuntu noble-backports/restricted amd64 Components [216 B]\n",
      "Get:16 http://nova.clouds.archive.ubuntu.com/ubuntu noble-backports/multiverse amd64 Components [212 B]\n",
      "Fetched 2952 kB in 2s (1518 kB/s)\n",
      "Reading package lists...\n",
      "Reading package lists...\n",
      "Building dependency tree...\n",
      "Reading state information...\n",
      "The following additional packages will be installed:\n",
      "  cudnn9 cudnn9-cuda-12 cudnn9-cuda-12-8 libcudnn9-cuda-12\n",
      "  libcudnn9-dev-cuda-12 libcudnn9-samples libcudnn9-static-cuda-12\n",
      "The following NEW packages will be installed:\n",
      "  cudnn cudnn9 cudnn9-cuda-12 cudnn9-cuda-12-8 libcudnn9-cuda-12\n",
      "  libcudnn9-dev-cuda-12 libcudnn9-samples libcudnn9-static-cuda-12\n",
      "0 upgraded, 8 newly installed, 0 to remove and 253 not upgraded.\n",
      "Need to get 987 MB of archives.\n",
      "After this operation, 2371 MB of additional disk space will be used.\n",
      "Get:1 https://developer.download.nvidia.com/compute/cuda/repos/ubuntu2404/x86_64  libcudnn9-cuda-12 9.7.1.26-1 [491 MB]\n",
      "Get:2 https://developer.download.nvidia.com/compute/cuda/repos/ubuntu2404/x86_64  libcudnn9-dev-cuda-12 9.7.1.26-1 [34.4 kB]\n",
      "Get:3 https://developer.download.nvidia.com/compute/cuda/repos/ubuntu2404/x86_64  libcudnn9-static-cuda-12 9.7.1.26-1 [495 MB]\n",
      "Get:4 https://developer.download.nvidia.com/compute/cuda/repos/ubuntu2404/x86_64  cudnn9-cuda-12-8 9.7.1.26-1 [12.4 kB]\n",
      "Get:5 https://developer.download.nvidia.com/compute/cuda/repos/ubuntu2404/x86_64  cudnn9-cuda-12 9.7.1.26-1 [12.3 kB]\n",
      "Get:6 https://developer.download.nvidia.com/compute/cuda/repos/ubuntu2404/x86_64  libcudnn9-samples 9.7.1.26-1 [1670 kB]\n",
      "Get:7 https://developer.download.nvidia.com/compute/cuda/repos/ubuntu2404/x86_64  cudnn9 9.7.1-1 [2438 B]\n",
      "Get:8 https://developer.download.nvidia.com/compute/cuda/repos/ubuntu2404/x86_64  cudnn 9.7.1-1 [2414 B]\n"
     ]
    },
    {
     "name": "stderr",
     "output_type": "stream",
     "text": [
      "debconf: unable to initialize frontend: Dialog\n",
      "debconf: (Dialog frontend will not work on a dumb terminal, an emacs shell buffer, or without a controlling terminal.)\n",
      "debconf: falling back to frontend: Readline\n",
      "debconf: unable to initialize frontend: Readline\n",
      "debconf: (This frontend requires a controlling tty.)\n",
      "debconf: falling back to frontend: Teletype\n",
      "dpkg-preconfigure: unable to re-open stdin: \n"
     ]
    },
    {
     "name": "stdout",
     "output_type": "stream",
     "text": [
      "Fetched 987 MB in 37s (26.8 MB/s)\n",
      "Selecting previously unselected package libcudnn9-cuda-12.\n",
      "(Reading database ... 110603 files and directories currently installed.)\n",
      "Preparing to unpack .../0-libcudnn9-cuda-12_9.7.1.26-1_amd64.deb ...\n",
      "Unpacking libcudnn9-cuda-12 (9.7.1.26-1) ...\n",
      "Selecting previously unselected package libcudnn9-dev-cuda-12.\n",
      "Preparing to unpack .../1-libcudnn9-dev-cuda-12_9.7.1.26-1_amd64.deb ...\n",
      "Unpacking libcudnn9-dev-cuda-12 (9.7.1.26-1) ...\n",
      "Selecting previously unselected package libcudnn9-static-cuda-12.\n",
      "Preparing to unpack .../2-libcudnn9-static-cuda-12_9.7.1.26-1_amd64.deb ...\n",
      "Unpacking libcudnn9-static-cuda-12 (9.7.1.26-1) ...\n",
      "Selecting previously unselected package cudnn9-cuda-12-8.\n",
      "Preparing to unpack .../3-cudnn9-cuda-12-8_9.7.1.26-1_amd64.deb ...\n",
      "Unpacking cudnn9-cuda-12-8 (9.7.1.26-1) ...\n",
      "Selecting previously unselected package cudnn9-cuda-12.\n",
      "Preparing to unpack .../4-cudnn9-cuda-12_9.7.1.26-1_amd64.deb ...\n",
      "Unpacking cudnn9-cuda-12 (9.7.1.26-1) ...\n",
      "Selecting previously unselected package libcudnn9-samples.\n",
      "Preparing to unpack .../5-libcudnn9-samples_9.7.1.26-1_all.deb ...\n",
      "Unpacking libcudnn9-samples (9.7.1.26-1) ...\n",
      "Selecting previously unselected package cudnn9.\n",
      "Preparing to unpack .../6-cudnn9_9.7.1-1_amd64.deb ...\n",
      "Unpacking cudnn9 (9.7.1-1) ...\n",
      "Selecting previously unselected package cudnn.\n",
      "Preparing to unpack .../7-cudnn_9.7.1-1_amd64.deb ...\n",
      "Unpacking cudnn (9.7.1-1) ...\n",
      "Setting up libcudnn9-samples (9.7.1.26-1) ...\n",
      "Setting up libcudnn9-cuda-12 (9.7.1.26-1) ...\n",
      "Setting up libcudnn9-dev-cuda-12 (9.7.1.26-1) ...\n",
      "update-alternatives: using /usr/include/x86_64-linux-gnu/cudnn_v9.h to provide /usr/include/cudnn.h (libcudnn) in auto mode\n",
      "Setting up libcudnn9-static-cuda-12 (9.7.1.26-1) ...\n",
      "Setting up cudnn9-cuda-12-8 (9.7.1.26-1) ...\n",
      "Setting up cudnn9-cuda-12 (9.7.1.26-1) ...\n",
      "Setting up cudnn9 (9.7.1-1) ...\n",
      "Setting up cudnn (9.7.1-1) ...\n",
      "Processing triggers for libc-bin (2.39-0ubuntu8.3) ...\n"
     ]
    },
    {
     "name": "stderr",
     "output_type": "stream",
     "text": [
      "debconf: unable to initialize frontend: Dialog\n",
      "debconf: (Dialog frontend will not work on a dumb terminal, an emacs shell buffer, or without a controlling terminal.)\n",
      "debconf: falling back to frontend: Readline\n",
      "debconf: unable to initialize frontend: Readline\n",
      "debconf: (This frontend requires a controlling tty.)\n",
      "debconf: falling back to frontend: Teletype\n",
      "\n",
      "Running kernel seems to be up-to-date.\n",
      "\n",
      "The processor microcode seems to be up-to-date.\n",
      "\n",
      "No services need to be restarted.\n",
      "\n",
      "No containers need to be restarted.\n",
      "\n",
      "No user sessions are running outdated binaries.\n",
      "\n",
      "No VM guests are running outdated hypervisor (qemu) binaries on this host.\n"
     ]
    },
    {
     "data": {
      "text/plain": [
       "<Result cmd='sudo dpkg -i cuda-keyring_1.1-1_all.deb && sudo apt-get update && sudo apt-get -y install cudnn' exited=0>"
      ]
     },
     "execution_count": 10,
     "metadata": {},
     "output_type": "execute_result"
    }
   ],
   "source": [
    "s.execute(\"sudo dpkg -i cuda-keyring_1.1-1_all.deb && sudo apt-get update && sudo apt-get -y install cudnn\")"
   ]
  },
  {
   "cell_type": "markdown",
   "metadata": {},
   "source": [
    "## TenorRT Execution provider"
   ]
  },
  {
   "cell_type": "code",
   "execution_count": 11,
   "metadata": {},
   "outputs": [
    {
     "name": "stdout",
     "output_type": "stream",
     "text": [
      "Reading package lists...\n",
      "Building dependency tree...\n",
      "Reading state information...\n",
      "The following additional packages will be installed:\n",
      "  cuda-cccl-12-8 cuda-command-line-tools-12-8 cuda-compiler-12-8 cuda-crt-12-8\n",
      "  cuda-cudart-12-8 cuda-cudart-dev-12-8 cuda-cuobjdump-12-8 cuda-cupti-12-8\n",
      "  cuda-cupti-dev-12-8 cuda-cuxxfilt-12-8 cuda-documentation-12-8\n",
      "  cuda-driver-dev-12-8 cuda-gdb-12-8 cuda-libraries-12-8\n",
      "  cuda-libraries-dev-12-8 cuda-nsight-12-8 cuda-nsight-compute-12-8\n",
      "  cuda-nsight-systems-12-8 cuda-nvcc-12-8 cuda-nvdisasm-12-8\n",
      "  cuda-nvml-dev-12-8 cuda-nvprof-12-8 cuda-nvprune-12-8 cuda-nvrtc-12-8\n",
      "  cuda-nvrtc-dev-12-8 cuda-nvtx-12-8 cuda-nvvm-12-8 cuda-nvvp-12-8\n",
      "  cuda-opencl-12-8 cuda-opencl-dev-12-8 cuda-profiler-api-12-8\n",
      "  cuda-sanitizer-12-8 cuda-toolkit-12-8-config-common\n",
      "  cuda-toolkit-12-config-common cuda-toolkit-config-common cuda-tools-12-8\n",
      "  cuda-visual-tools-12-8 gds-tools-12-8 libcublas-12-8 libcublas-dev-12-8\n",
      "  libcufft-12-8 libcufft-dev-12-8 libcufile-12-8 libcufile-dev-12-8\n",
      "  libcurand-12-8 libcurand-dev-12-8 libcusolver-12-8 libcusolver-dev-12-8\n",
      "  libcusparse-12-8 libcusparse-dev-12-8 libnpp-12-8 libnpp-dev-12-8\n",
      "  libnvfatbin-12-8 libnvfatbin-dev-12-8 libnvinfer-bin libnvinfer-dev\n",
      "  libnvinfer-dispatch-dev libnvinfer-dispatch10 libnvinfer-headers-dev\n",
      "  libnvinfer-headers-plugin-dev libnvinfer-lean-dev libnvinfer-lean10\n",
      "  libnvinfer-plugin-dev libnvinfer-plugin10 libnvinfer-samples\n",
      "  libnvinfer-vc-plugin-dev libnvinfer-vc-plugin10 libnvinfer10\n",
      "  libnvjitlink-12-8 libnvjitlink-dev-12-8 libnvjpeg-12-8 libnvjpeg-dev-12-8\n",
      "  libnvonnxparsers-dev libnvonnxparsers10 nsight-compute-2025.1.0\n",
      "  nsight-systems-2024.6.2 python3-libnvinfer python3-libnvinfer-dev\n",
      "  python3-libnvinfer-dispatch python3-libnvinfer-lean\n",
      "The following NEW packages will be installed:\n",
      "  cuda-cccl-12-8 cuda-command-line-tools-12-8 cuda-compiler-12-8 cuda-crt-12-8\n",
      "  cuda-cudart-12-8 cuda-cudart-dev-12-8 cuda-cuobjdump-12-8 cuda-cupti-12-8\n",
      "  cuda-cupti-dev-12-8 cuda-cuxxfilt-12-8 cuda-documentation-12-8\n",
      "  cuda-driver-dev-12-8 cuda-gdb-12-8 cuda-libraries-12-8\n",
      "  cuda-libraries-dev-12-8 cuda-nsight-12-8 cuda-nsight-compute-12-8\n",
      "  cuda-nsight-systems-12-8 cuda-nvcc-12-8 cuda-nvdisasm-12-8\n",
      "  cuda-nvml-dev-12-8 cuda-nvprof-12-8 cuda-nvprune-12-8 cuda-nvrtc-12-8\n",
      "  cuda-nvrtc-dev-12-8 cuda-nvtx-12-8 cuda-nvvm-12-8 cuda-nvvp-12-8\n",
      "  cuda-opencl-12-8 cuda-opencl-dev-12-8 cuda-profiler-api-12-8\n",
      "  cuda-sanitizer-12-8 cuda-toolkit-12-8 cuda-toolkit-12-8-config-common\n",
      "  cuda-tools-12-8 cuda-visual-tools-12-8 gds-tools-12-8 libcublas-12-8\n",
      "  libcublas-dev-12-8 libcufft-12-8 libcufft-dev-12-8 libcufile-12-8\n",
      "  libcufile-dev-12-8 libcurand-12-8 libcurand-dev-12-8 libcusolver-12-8\n",
      "  libcusolver-dev-12-8 libcusparse-12-8 libcusparse-dev-12-8 libnpp-12-8\n",
      "  libnpp-dev-12-8 libnvfatbin-12-8 libnvfatbin-dev-12-8 libnvinfer-bin\n",
      "  libnvinfer-dev libnvinfer-dispatch-dev libnvinfer-dispatch10\n",
      "  libnvinfer-headers-dev libnvinfer-headers-plugin-dev libnvinfer-lean-dev\n",
      "  libnvinfer-lean10 libnvinfer-plugin-dev libnvinfer-plugin10\n",
      "  libnvinfer-samples libnvinfer-vc-plugin-dev libnvinfer-vc-plugin10\n",
      "  libnvinfer10 libnvjitlink-12-8 libnvjitlink-dev-12-8 libnvjpeg-12-8\n",
      "  libnvjpeg-dev-12-8 libnvonnxparsers-dev libnvonnxparsers10\n",
      "  nsight-compute-2025.1.0 nsight-systems-2024.6.2 python3-libnvinfer\n",
      "  python3-libnvinfer-dev python3-libnvinfer-dispatch python3-libnvinfer-lean\n",
      "  tensorrt\n",
      "The following packages will be upgraded:\n",
      "  cuda-toolkit-12-config-common cuda-toolkit-config-common\n",
      "2 upgraded, 80 newly installed, 0 to remove and 251 not upgraded.\n",
      "Need to get 8094 MB of archives.\n",
      "After this operation, 19.8 GB of additional disk space will be used.\n",
      "Get:1 https://developer.download.nvidia.com/compute/cuda/repos/ubuntu2404/x86_64  cuda-cccl-12-8 12.8.55-1 [966 kB]\n",
      "Get:2 https://developer.download.nvidia.com/compute/cuda/repos/ubuntu2404/x86_64  cuda-cupti-12-8 12.8.57-1 [11.4 MB]\n",
      "Get:3 https://developer.download.nvidia.com/compute/cuda/repos/ubuntu2404/x86_64  cuda-cupti-dev-12-8 12.8.57-1 [4075 kB]\n",
      "Get:4 https://developer.download.nvidia.com/compute/cuda/repos/ubuntu2404/x86_64  cuda-nvdisasm-12-8 12.8.55-1 [5086 kB]\n",
      "Get:5 https://developer.download.nvidia.com/compute/cuda/repos/ubuntu2404/x86_64  cuda-cuobjdump-12-8 12.8.55-1 [210 kB]\n",
      "Get:6 https://developer.download.nvidia.com/compute/cuda/repos/ubuntu2404/x86_64  cuda-gdb-12-8 12.8.55-1 [25.1 MB]\n",
      "Get:7 https://developer.download.nvidia.com/compute/cuda/repos/ubuntu2404/x86_64  cuda-nvprof-12-8 12.8.57-1 [2398 kB]\n",
      "Get:8 https://developer.download.nvidia.com/compute/cuda/repos/ubuntu2404/x86_64  cuda-nvtx-12-8 12.8.55-1 [52.0 kB]\n",
      "Get:9 https://developer.download.nvidia.com/compute/cuda/repos/ubuntu2404/x86_64  cuda-sanitizer-12-8 12.8.55-1 [10.3 MB]\n",
      "Get:10 https://developer.download.nvidia.com/compute/cuda/repos/ubuntu2404/x86_64  cuda-command-line-tools-12-8 12.8.0-1 [2546 B]\n",
      "Get:11 https://developer.download.nvidia.com/compute/cuda/repos/ubuntu2404/x86_64  cuda-cuxxfilt-12-8 12.8.55-1 [191 kB]\n",
      "Get:12 https://developer.download.nvidia.com/compute/cuda/repos/ubuntu2404/x86_64  cuda-toolkit-config-common 12.8.57-1 [16.5 kB]\n",
      "Get:13 https://developer.download.nvidia.com/compute/cuda/repos/ubuntu2404/x86_64  cuda-toolkit-12-config-common 12.8.57-1 [16.5 kB]\n",
      "Get:14 https://developer.download.nvidia.com/compute/cuda/repos/ubuntu2404/x86_64  cuda-toolkit-12-8-config-common 12.8.57-1 [16.5 kB]\n",
      "Get:15 https://developer.download.nvidia.com/compute/cuda/repos/ubuntu2404/x86_64  cuda-cudart-12-8 12.8.57-1 [170 kB]\n",
      "Get:16 https://developer.download.nvidia.com/compute/cuda/repos/ubuntu2404/x86_64  cuda-driver-dev-12-8 12.8.57-1 [29.1 kB]\n",
      "Get:17 https://developer.download.nvidia.com/compute/cuda/repos/ubuntu2404/x86_64  cuda-cudart-dev-12-8 12.8.57-1 [1246 kB]\n",
      "Get:18 https://developer.download.nvidia.com/compute/cuda/repos/ubuntu2404/x86_64  cuda-nvvm-12-8 12.8.61-1 [43.8 MB]\n",
      "Get:19 https://developer.download.nvidia.com/compute/cuda/repos/ubuntu2404/x86_64  cuda-crt-12-8 12.8.61-1 [81.1 kB]\n",
      "Get:20 https://developer.download.nvidia.com/compute/cuda/repos/ubuntu2404/x86_64  cuda-nvcc-12-8 12.8.61-1 [36.1 MB]\n",
      "Get:21 https://developer.download.nvidia.com/compute/cuda/repos/ubuntu2404/x86_64  cuda-nvprune-12-8 12.8.55-1 [60.6 kB]\n",
      "Get:22 https://developer.download.nvidia.com/compute/cuda/repos/ubuntu2404/x86_64  cuda-compiler-12-8 12.8.0-1 [2510 B]\n",
      "Get:23 https://developer.download.nvidia.com/compute/cuda/repos/ubuntu2404/x86_64  cuda-documentation-12-8 12.8.55-1 [49.9 kB]\n",
      "Get:24 https://developer.download.nvidia.com/compute/cuda/repos/ubuntu2404/x86_64  cuda-nvrtc-12-8 12.8.61-1 [62.3 MB]\n",
      "Get:25 https://developer.download.nvidia.com/compute/cuda/repos/ubuntu2404/x86_64  cuda-opencl-12-8 12.8.55-1 [23.9 kB]\n",
      "Get:26 https://developer.download.nvidia.com/compute/cuda/repos/ubuntu2404/x86_64  libcublas-12-8 12.8.3.14-1 [474 MB]\n",
      "Get:27 https://developer.download.nvidia.com/compute/cuda/repos/ubuntu2404/x86_64  libcufft-12-8 11.3.3.41-1 [151 MB]\n",
      "Get:28 https://developer.download.nvidia.com/compute/cuda/repos/ubuntu2404/x86_64  libcufile-12-8 1.13.0.11-1 [885 kB]\n",
      "Get:29 https://developer.download.nvidia.com/compute/cuda/repos/ubuntu2404/x86_64  libcurand-12-8 10.3.9.55-1 [44.7 MB]\n",
      "Get:30 https://developer.download.nvidia.com/compute/cuda/repos/ubuntu2404/x86_64  libcusolver-12-8 11.7.2.55-1 [160 MB]\n",
      "Get:31 https://developer.download.nvidia.com/compute/cuda/repos/ubuntu2404/x86_64  libcusparse-12-8 12.5.7.53-1 [166 MB]\n",
      "Get:32 https://developer.download.nvidia.com/compute/cuda/repos/ubuntu2404/x86_64  libnpp-12-8 12.3.3.65-1 [131 MB]\n",
      "Get:33 https://developer.download.nvidia.com/compute/cuda/repos/ubuntu2404/x86_64  libnvjitlink-12-8 12.8.61-1 [28.3 MB]\n",
      "Get:34 https://developer.download.nvidia.com/compute/cuda/repos/ubuntu2404/x86_64  libnvfatbin-12-8 12.8.55-1 [743 kB]\n",
      "Get:35 https://developer.download.nvidia.com/compute/cuda/repos/ubuntu2404/x86_64  libnvjpeg-12-8 12.3.5.57-1 [2895 kB]\n",
      "Get:36 https://developer.download.nvidia.com/compute/cuda/repos/ubuntu2404/x86_64  cuda-libraries-12-8 12.8.0-1 [2610 B]\n",
      "Get:37 https://developer.download.nvidia.com/compute/cuda/repos/ubuntu2404/x86_64  cuda-profiler-api-12-8 12.8.55-1 [18.6 kB]\n",
      "Get:38 https://developer.download.nvidia.com/compute/cuda/repos/ubuntu2404/x86_64  cuda-nvrtc-dev-12-8 12.8.61-1 [53.1 MB]\n",
      "Get:39 https://developer.download.nvidia.com/compute/cuda/repos/ubuntu2404/x86_64  cuda-opencl-dev-12-8 12.8.55-1 [89.5 kB]\n",
      "Get:40 https://developer.download.nvidia.com/compute/cuda/repos/ubuntu2404/x86_64  libcublas-dev-12-8 12.8.3.14-1 [498 MB]\n",
      "Get:41 https://developer.download.nvidia.com/compute/cuda/repos/ubuntu2404/x86_64  libcufft-dev-12-8 11.3.3.41-1 [302 MB]\n",
      "Get:42 https://developer.download.nvidia.com/compute/cuda/repos/ubuntu2404/x86_64  libcufile-dev-12-8 1.13.0.11-1 [2677 kB]\n",
      "Get:43 https://developer.download.nvidia.com/compute/cuda/repos/ubuntu2404/x86_64  libcurand-dev-12-8 10.3.9.55-1 [44.8 MB]\n",
      "Get:44 https://developer.download.nvidia.com/compute/cuda/repos/ubuntu2404/x86_64  libcusolver-dev-12-8 11.7.2.55-1 [106 MB]\n",
      "Get:45 https://developer.download.nvidia.com/compute/cuda/repos/ubuntu2404/x86_64  libcusparse-dev-12-8 12.5.7.53-1 [171 MB]\n",
      "Get:46 https://developer.download.nvidia.com/compute/cuda/repos/ubuntu2404/x86_64  libnpp-dev-12-8 12.3.3.65-1 [130 MB]\n",
      "Get:47 https://developer.download.nvidia.com/compute/cuda/repos/ubuntu2404/x86_64  libnvjitlink-dev-12-8 12.8.61-1 [26.1 MB]\n",
      "Get:48 https://developer.download.nvidia.com/compute/cuda/repos/ubuntu2404/x86_64  libnvfatbin-dev-12-8 12.8.55-1 [619 kB]\n",
      "Get:49 https://developer.download.nvidia.com/compute/cuda/repos/ubuntu2404/x86_64  libnvjpeg-dev-12-8 12.3.5.57-1 [2598 kB]\n",
      "Get:50 https://developer.download.nvidia.com/compute/cuda/repos/ubuntu2404/x86_64  cuda-libraries-dev-12-8 12.8.0-1 [2654 B]\n",
      "Get:51 https://developer.download.nvidia.com/compute/cuda/repos/ubuntu2404/x86_64  cuda-nsight-12-8 12.8.55-1 [119 MB]\n",
      "Get:52 https://developer.download.nvidia.com/compute/cuda/repos/ubuntu2404/x86_64  nsight-compute-2025.1.0 2025.1.0.14-1 [295 MB]\n",
      "Get:53 https://developer.download.nvidia.com/compute/cuda/repos/ubuntu2404/x86_64  cuda-nsight-compute-12-8 12.8.0-1 [4060 B]\n",
      "Get:54 https://developer.download.nvidia.com/compute/cuda/repos/ubuntu2404/x86_64  nsight-systems-2024.6.2 2024.6.2.225-246235244400v0 [374 MB]\n",
      "Get:55 https://developer.download.nvidia.com/compute/cuda/repos/ubuntu2404/x86_64  cuda-nsight-systems-12-8 12.8.0-1 [3352 B]\n",
      "Get:56 https://developer.download.nvidia.com/compute/cuda/repos/ubuntu2404/x86_64  cuda-nvml-dev-12-8 12.8.55-1 [127 kB]\n",
      "Get:57 https://developer.download.nvidia.com/compute/cuda/repos/ubuntu2404/x86_64  cuda-nvvp-12-8 12.8.57-1 [115 MB]\n",
      "Get:58 https://developer.download.nvidia.com/compute/cuda/repos/ubuntu2404/x86_64  cuda-visual-tools-12-8 12.8.0-1 [2946 B]\n",
      "Get:59 https://developer.download.nvidia.com/compute/cuda/repos/ubuntu2404/x86_64  gds-tools-12-8 1.13.0.11-1 [39.0 MB]\n",
      "Get:60 https://developer.download.nvidia.com/compute/cuda/repos/ubuntu2404/x86_64  cuda-tools-12-8 12.8.0-1 [2466 B]\n",
      "Get:61 https://developer.download.nvidia.com/compute/cuda/repos/ubuntu2404/x86_64  cuda-toolkit-12-8 12.8.0-1 [3360 B]\n",
      "Get:62 https://developer.download.nvidia.com/compute/cuda/repos/ubuntu2404/x86_64  libnvinfer10 10.8.0.43-1+cuda12.8 [1966 MB]\n",
      "Get:63 https://developer.download.nvidia.com/compute/cuda/repos/ubuntu2404/x86_64  libnvinfer-lean10 10.8.0.43-1+cuda12.8 [15.5 MB]\n",
      "Get:64 https://developer.download.nvidia.com/compute/cuda/repos/ubuntu2404/x86_64  libnvinfer-plugin10 10.8.0.43-1+cuda12.8 [13.7 MB]\n",
      "Get:65 https://developer.download.nvidia.com/compute/cuda/repos/ubuntu2404/x86_64  libnvinfer-vc-plugin10 10.8.0.43-1+cuda12.8 [233 kB]\n",
      "Get:66 https://developer.download.nvidia.com/compute/cuda/repos/ubuntu2404/x86_64  libnvinfer-dispatch10 10.8.0.43-1+cuda12.8 [216 kB]\n",
      "Get:67 https://developer.download.nvidia.com/compute/cuda/repos/ubuntu2404/x86_64  libnvonnxparsers10 10.8.0.43-1+cuda12.8 [1384 kB]\n",
      "Get:68 https://developer.download.nvidia.com/compute/cuda/repos/ubuntu2404/x86_64  libnvinfer-bin 10.8.0.43-1+cuda12.8 [457 kB]\n",
      "Get:69 https://developer.download.nvidia.com/compute/cuda/repos/ubuntu2404/x86_64  libnvinfer-headers-dev 10.8.0.43-1+cuda12.8 [109 kB]\n",
      "Get:70 https://developer.download.nvidia.com/compute/cuda/repos/ubuntu2404/x86_64  libnvinfer-dev 10.8.0.43-1+cuda12.8 [2019 MB]\n",
      "Get:71 https://developer.download.nvidia.com/compute/cuda/repos/ubuntu2404/x86_64  libnvinfer-dispatch-dev 10.8.0.43-1+cuda12.8 [123 kB]\n",
      "Get:72 https://developer.download.nvidia.com/compute/cuda/repos/ubuntu2404/x86_64  libnvinfer-headers-plugin-dev 10.8.0.43-1+cuda12.8 [6056 B]\n",
      "Get:73 https://developer.download.nvidia.com/compute/cuda/repos/ubuntu2404/x86_64  libnvinfer-lean-dev 10.8.0.43-1+cuda12.8 [230 MB]\n",
      "Get:74 https://developer.download.nvidia.com/compute/cuda/repos/ubuntu2404/x86_64  libnvinfer-plugin-dev 10.8.0.43-1+cuda12.8 [15.7 MB]\n",
      "Get:75 https://developer.download.nvidia.com/compute/cuda/repos/ubuntu2404/x86_64  libnvinfer-vc-plugin-dev 10.8.0.43-1+cuda12.8 [97.4 kB]\n",
      "Get:76 https://developer.download.nvidia.com/compute/cuda/repos/ubuntu2404/x86_64  libnvonnxparsers-dev 10.8.0.43-1+cuda12.8 [2156 kB]\n",
      "Get:77 https://developer.download.nvidia.com/compute/cuda/repos/ubuntu2404/x86_64  libnvinfer-samples 10.8.0.43-1+cuda12.8 [187 MB]\n",
      "Get:78 https://developer.download.nvidia.com/compute/cuda/repos/ubuntu2404/x86_64  python3-libnvinfer 10.8.0.43-1+cuda12.8 [760 kB]\n",
      "Get:79 https://developer.download.nvidia.com/compute/cuda/repos/ubuntu2404/x86_64  python3-libnvinfer-lean 10.8.0.43-1+cuda12.8 [485 kB]\n",
      "Get:80 https://developer.download.nvidia.com/compute/cuda/repos/ubuntu2404/x86_64  python3-libnvinfer-dispatch 10.8.0.43-1+cuda12.8 [485 kB]\n",
      "Get:81 https://developer.download.nvidia.com/compute/cuda/repos/ubuntu2404/x86_64  python3-libnvinfer-dev 10.8.0.43-1+cuda12.8 [2962 B]\n",
      "Get:82 https://developer.download.nvidia.com/compute/cuda/repos/ubuntu2404/x86_64  tensorrt 10.8.0.43-1+cuda12.8 [2946 B]\n"
     ]
    },
    {
     "name": "stderr",
     "output_type": "stream",
     "text": [
      "debconf: unable to initialize frontend: Dialog\n",
      "debconf: (Dialog frontend will not work on a dumb terminal, an emacs shell buffer, or without a controlling terminal.)\n",
      "debconf: falling back to frontend: Readline\n",
      "debconf: unable to initialize frontend: Readline\n",
      "debconf: (This frontend requires a controlling tty.)\n",
      "debconf: falling back to frontend: Teletype\n",
      "dpkg-preconfigure: unable to re-open stdin: \n"
     ]
    },
    {
     "name": "stdout",
     "output_type": "stream",
     "text": [
      "Fetched 8094 MB in 5min 53s (23.0 MB/s)\n",
      "Selecting previously unselected package cuda-cccl-12-8.\n",
      "(Reading database ... 110733 files and directories currently installed.)\n",
      "Preparing to unpack .../00-cuda-cccl-12-8_12.8.55-1_amd64.deb ...\n",
      "Unpacking cuda-cccl-12-8 (12.8.55-1) ...\n",
      "Selecting previously unselected package cuda-cupti-12-8.\n",
      "Preparing to unpack .../01-cuda-cupti-12-8_12.8.57-1_amd64.deb ...\n",
      "Unpacking cuda-cupti-12-8 (12.8.57-1) ...\n",
      "Selecting previously unselected package cuda-cupti-dev-12-8.\n",
      "Preparing to unpack .../02-cuda-cupti-dev-12-8_12.8.57-1_amd64.deb ...\n",
      "Unpacking cuda-cupti-dev-12-8 (12.8.57-1) ...\n",
      "Selecting previously unselected package cuda-nvdisasm-12-8.\n",
      "Preparing to unpack .../03-cuda-nvdisasm-12-8_12.8.55-1_amd64.deb ...\n",
      "Unpacking cuda-nvdisasm-12-8 (12.8.55-1) ...\n",
      "Selecting previously unselected package cuda-cuobjdump-12-8.\n",
      "Preparing to unpack .../04-cuda-cuobjdump-12-8_12.8.55-1_amd64.deb ...\n",
      "Unpacking cuda-cuobjdump-12-8 (12.8.55-1) ...\n",
      "Selecting previously unselected package cuda-gdb-12-8.\n",
      "Preparing to unpack .../05-cuda-gdb-12-8_12.8.55-1_amd64.deb ...\n",
      "Unpacking cuda-gdb-12-8 (12.8.55-1) ...\n",
      "Selecting previously unselected package cuda-nvprof-12-8.\n",
      "Preparing to unpack .../06-cuda-nvprof-12-8_12.8.57-1_amd64.deb ...\n",
      "Unpacking cuda-nvprof-12-8 (12.8.57-1) ...\n",
      "Selecting previously unselected package cuda-nvtx-12-8.\n",
      "Preparing to unpack .../07-cuda-nvtx-12-8_12.8.55-1_amd64.deb ...\n",
      "Unpacking cuda-nvtx-12-8 (12.8.55-1) ...\n",
      "Selecting previously unselected package cuda-sanitizer-12-8.\n",
      "Preparing to unpack .../08-cuda-sanitizer-12-8_12.8.55-1_amd64.deb ...\n",
      "Unpacking cuda-sanitizer-12-8 (12.8.55-1) ...\n",
      "Selecting previously unselected package cuda-command-line-tools-12-8.\n",
      "Preparing to unpack .../09-cuda-command-line-tools-12-8_12.8.0-1_amd64.deb ...\n",
      "Unpacking cuda-command-line-tools-12-8 (12.8.0-1) ...\n",
      "Selecting previously unselected package cuda-cuxxfilt-12-8.\n",
      "Preparing to unpack .../10-cuda-cuxxfilt-12-8_12.8.55-1_amd64.deb ...\n",
      "Unpacking cuda-cuxxfilt-12-8 (12.8.55-1) ...\n",
      "Preparing to unpack .../11-cuda-toolkit-config-common_12.8.57-1_all.deb ...\n",
      "Unpacking cuda-toolkit-config-common (12.8.57-1) over (12.6.77-1) ...\n",
      "Preparing to unpack .../12-cuda-toolkit-12-config-common_12.8.57-1_all.deb ...\n",
      "Unpacking cuda-toolkit-12-config-common (12.8.57-1) over (12.6.77-1) ...\n",
      "Selecting previously unselected package cuda-toolkit-12-8-config-common.\n",
      "Preparing to unpack .../13-cuda-toolkit-12-8-config-common_12.8.57-1_all.deb ...\n",
      "Unpacking cuda-toolkit-12-8-config-common (12.8.57-1) ...\n",
      "Selecting previously unselected package cuda-cudart-12-8.\n",
      "Preparing to unpack .../14-cuda-cudart-12-8_12.8.57-1_amd64.deb ...\n",
      "Unpacking cuda-cudart-12-8 (12.8.57-1) ...\n",
      "Selecting previously unselected package cuda-driver-dev-12-8.\n",
      "Preparing to unpack .../15-cuda-driver-dev-12-8_12.8.57-1_amd64.deb ...\n",
      "Unpacking cuda-driver-dev-12-8 (12.8.57-1) ...\n",
      "Selecting previously unselected package cuda-cudart-dev-12-8.\n",
      "Preparing to unpack .../16-cuda-cudart-dev-12-8_12.8.57-1_amd64.deb ...\n",
      "Unpacking cuda-cudart-dev-12-8 (12.8.57-1) ...\n",
      "Selecting previously unselected package cuda-nvvm-12-8.\n",
      "Preparing to unpack .../17-cuda-nvvm-12-8_12.8.61-1_amd64.deb ...\n",
      "Unpacking cuda-nvvm-12-8 (12.8.61-1) ...\n",
      "Selecting previously unselected package cuda-crt-12-8.\n",
      "Preparing to unpack .../18-cuda-crt-12-8_12.8.61-1_amd64.deb ...\n",
      "Unpacking cuda-crt-12-8 (12.8.61-1) ...\n",
      "Selecting previously unselected package cuda-nvcc-12-8.\n",
      "Preparing to unpack .../19-cuda-nvcc-12-8_12.8.61-1_amd64.deb ...\n",
      "Unpacking cuda-nvcc-12-8 (12.8.61-1) ...\n",
      "Selecting previously unselected package cuda-nvprune-12-8.\n",
      "Preparing to unpack .../20-cuda-nvprune-12-8_12.8.55-1_amd64.deb ...\n",
      "Unpacking cuda-nvprune-12-8 (12.8.55-1) ...\n",
      "Selecting previously unselected package cuda-compiler-12-8.\n",
      "Preparing to unpack .../21-cuda-compiler-12-8_12.8.0-1_amd64.deb ...\n",
      "Unpacking cuda-compiler-12-8 (12.8.0-1) ...\n",
      "Selecting previously unselected package cuda-documentation-12-8.\n",
      "Preparing to unpack .../22-cuda-documentation-12-8_12.8.55-1_amd64.deb ...\n",
      "Unpacking cuda-documentation-12-8 (12.8.55-1) ...\n",
      "Selecting previously unselected package cuda-nvrtc-12-8.\n",
      "Preparing to unpack .../23-cuda-nvrtc-12-8_12.8.61-1_amd64.deb ...\n",
      "Unpacking cuda-nvrtc-12-8 (12.8.61-1) ...\n",
      "Selecting previously unselected package cuda-opencl-12-8.\n",
      "Preparing to unpack .../24-cuda-opencl-12-8_12.8.55-1_amd64.deb ...\n",
      "Unpacking cuda-opencl-12-8 (12.8.55-1) ...\n",
      "Selecting previously unselected package libcublas-12-8.\n",
      "Preparing to unpack .../25-libcublas-12-8_12.8.3.14-1_amd64.deb ...\n",
      "Unpacking libcublas-12-8 (12.8.3.14-1) ...\n",
      "Selecting previously unselected package libcufft-12-8.\n",
      "Preparing to unpack .../26-libcufft-12-8_11.3.3.41-1_amd64.deb ...\n",
      "Unpacking libcufft-12-8 (11.3.3.41-1) ...\n",
      "Selecting previously unselected package libcufile-12-8.\n",
      "Preparing to unpack .../27-libcufile-12-8_1.13.0.11-1_amd64.deb ...\n",
      "Unpacking libcufile-12-8 (1.13.0.11-1) ...\n",
      "Selecting previously unselected package libcurand-12-8.\n",
      "Preparing to unpack .../28-libcurand-12-8_10.3.9.55-1_amd64.deb ...\n",
      "Unpacking libcurand-12-8 (10.3.9.55-1) ...\n",
      "Selecting previously unselected package libcusolver-12-8.\n",
      "Preparing to unpack .../29-libcusolver-12-8_11.7.2.55-1_amd64.deb ...\n",
      "Unpacking libcusolver-12-8 (11.7.2.55-1) ...\n",
      "Selecting previously unselected package libcusparse-12-8.\n",
      "Preparing to unpack .../30-libcusparse-12-8_12.5.7.53-1_amd64.deb ...\n",
      "Unpacking libcusparse-12-8 (12.5.7.53-1) ...\n",
      "Selecting previously unselected package libnpp-12-8.\n",
      "Preparing to unpack .../31-libnpp-12-8_12.3.3.65-1_amd64.deb ...\n",
      "Unpacking libnpp-12-8 (12.3.3.65-1) ...\n",
      "Selecting previously unselected package libnvjitlink-12-8.\n",
      "Preparing to unpack .../32-libnvjitlink-12-8_12.8.61-1_amd64.deb ...\n",
      "Unpacking libnvjitlink-12-8 (12.8.61-1) ...\n",
      "Selecting previously unselected package libnvfatbin-12-8.\n",
      "Preparing to unpack .../33-libnvfatbin-12-8_12.8.55-1_amd64.deb ...\n",
      "Unpacking libnvfatbin-12-8 (12.8.55-1) ...\n",
      "Selecting previously unselected package libnvjpeg-12-8.\n",
      "Preparing to unpack .../34-libnvjpeg-12-8_12.3.5.57-1_amd64.deb ...\n",
      "Unpacking libnvjpeg-12-8 (12.3.5.57-1) ...\n",
      "Selecting previously unselected package cuda-libraries-12-8.\n",
      "Preparing to unpack .../35-cuda-libraries-12-8_12.8.0-1_amd64.deb ...\n",
      "Unpacking cuda-libraries-12-8 (12.8.0-1) ...\n",
      "Selecting previously unselected package cuda-profiler-api-12-8.\n",
      "Preparing to unpack .../36-cuda-profiler-api-12-8_12.8.55-1_amd64.deb ...\n",
      "Unpacking cuda-profiler-api-12-8 (12.8.55-1) ...\n",
      "Selecting previously unselected package cuda-nvrtc-dev-12-8.\n",
      "Preparing to unpack .../37-cuda-nvrtc-dev-12-8_12.8.61-1_amd64.deb ...\n",
      "Unpacking cuda-nvrtc-dev-12-8 (12.8.61-1) ...\n",
      "Selecting previously unselected package cuda-opencl-dev-12-8.\n",
      "Preparing to unpack .../38-cuda-opencl-dev-12-8_12.8.55-1_amd64.deb ...\n",
      "Unpacking cuda-opencl-dev-12-8 (12.8.55-1) ...\n",
      "Selecting previously unselected package libcublas-dev-12-8.\n",
      "Preparing to unpack .../39-libcublas-dev-12-8_12.8.3.14-1_amd64.deb ...\n",
      "Unpacking libcublas-dev-12-8 (12.8.3.14-1) ...\n",
      "Selecting previously unselected package libcufft-dev-12-8.\n",
      "Preparing to unpack .../40-libcufft-dev-12-8_11.3.3.41-1_amd64.deb ...\n",
      "Unpacking libcufft-dev-12-8 (11.3.3.41-1) ...\n",
      "Selecting previously unselected package libcufile-dev-12-8.\n",
      "Preparing to unpack .../41-libcufile-dev-12-8_1.13.0.11-1_amd64.deb ...\n",
      "Unpacking libcufile-dev-12-8 (1.13.0.11-1) ...\n",
      "Selecting previously unselected package libcurand-dev-12-8.\n",
      "Preparing to unpack .../42-libcurand-dev-12-8_10.3.9.55-1_amd64.deb ...\n",
      "Unpacking libcurand-dev-12-8 (10.3.9.55-1) ...\n",
      "Selecting previously unselected package libcusolver-dev-12-8.\n",
      "Preparing to unpack .../43-libcusolver-dev-12-8_11.7.2.55-1_amd64.deb ...\n",
      "Unpacking libcusolver-dev-12-8 (11.7.2.55-1) ...\n",
      "Selecting previously unselected package libcusparse-dev-12-8.\n",
      "Preparing to unpack .../44-libcusparse-dev-12-8_12.5.7.53-1_amd64.deb ...\n",
      "Unpacking libcusparse-dev-12-8 (12.5.7.53-1) ...\n",
      "Selecting previously unselected package libnpp-dev-12-8.\n",
      "Preparing to unpack .../45-libnpp-dev-12-8_12.3.3.65-1_amd64.deb ...\n",
      "Unpacking libnpp-dev-12-8 (12.3.3.65-1) ...\n",
      "Selecting previously unselected package libnvjitlink-dev-12-8.\n",
      "Preparing to unpack .../46-libnvjitlink-dev-12-8_12.8.61-1_amd64.deb ...\n",
      "Unpacking libnvjitlink-dev-12-8 (12.8.61-1) ...\n",
      "Selecting previously unselected package libnvfatbin-dev-12-8.\n",
      "Preparing to unpack .../47-libnvfatbin-dev-12-8_12.8.55-1_amd64.deb ...\n",
      "Unpacking libnvfatbin-dev-12-8 (12.8.55-1) ...\n",
      "Selecting previously unselected package libnvjpeg-dev-12-8.\n",
      "Preparing to unpack .../48-libnvjpeg-dev-12-8_12.3.5.57-1_amd64.deb ...\n",
      "Unpacking libnvjpeg-dev-12-8 (12.3.5.57-1) ...\n",
      "Selecting previously unselected package cuda-libraries-dev-12-8.\n",
      "Preparing to unpack .../49-cuda-libraries-dev-12-8_12.8.0-1_amd64.deb ...\n",
      "Unpacking cuda-libraries-dev-12-8 (12.8.0-1) ...\n",
      "Selecting previously unselected package cuda-nsight-12-8.\n",
      "Preparing to unpack .../50-cuda-nsight-12-8_12.8.55-1_amd64.deb ...\n",
      "Unpacking cuda-nsight-12-8 (12.8.55-1) ...\n",
      "Selecting previously unselected package nsight-compute-2025.1.0.\n",
      "Preparing to unpack .../51-nsight-compute-2025.1.0_2025.1.0.14-1_amd64.deb ...\n",
      "Unpacking nsight-compute-2025.1.0 (2025.1.0.14-1) ...\n",
      "Selecting previously unselected package cuda-nsight-compute-12-8.\n",
      "Preparing to unpack .../52-cuda-nsight-compute-12-8_12.8.0-1_amd64.deb ...\n",
      "Unpacking cuda-nsight-compute-12-8 (12.8.0-1) ...\n",
      "Selecting previously unselected package nsight-systems-2024.6.2.\n",
      "Preparing to unpack .../53-nsight-systems-2024.6.2_2024.6.2.225-246235244400v0_amd64.deb ...\n",
      "Unpacking nsight-systems-2024.6.2 (2024.6.2.225-246235244400v0) ...\n",
      "Selecting previously unselected package cuda-nsight-systems-12-8.\n",
      "Preparing to unpack .../54-cuda-nsight-systems-12-8_12.8.0-1_amd64.deb ...\n",
      "Unpacking cuda-nsight-systems-12-8 (12.8.0-1) ...\n",
      "Selecting previously unselected package cuda-nvml-dev-12-8.\n",
      "Preparing to unpack .../55-cuda-nvml-dev-12-8_12.8.55-1_amd64.deb ...\n",
      "Unpacking cuda-nvml-dev-12-8 (12.8.55-1) ...\n",
      "Selecting previously unselected package cuda-nvvp-12-8.\n",
      "Preparing to unpack .../56-cuda-nvvp-12-8_12.8.57-1_amd64.deb ...\n",
      "Unpacking cuda-nvvp-12-8 (12.8.57-1) ...\n",
      "Selecting previously unselected package cuda-visual-tools-12-8.\n",
      "Preparing to unpack .../57-cuda-visual-tools-12-8_12.8.0-1_amd64.deb ...\n",
      "Unpacking cuda-visual-tools-12-8 (12.8.0-1) ...\n",
      "Selecting previously unselected package gds-tools-12-8.\n",
      "Preparing to unpack .../58-gds-tools-12-8_1.13.0.11-1_amd64.deb ...\n",
      "Unpacking gds-tools-12-8 (1.13.0.11-1) ...\n",
      "Selecting previously unselected package cuda-tools-12-8.\n",
      "Preparing to unpack .../59-cuda-tools-12-8_12.8.0-1_amd64.deb ...\n",
      "Unpacking cuda-tools-12-8 (12.8.0-1) ...\n",
      "Selecting previously unselected package cuda-toolkit-12-8.\n",
      "Preparing to unpack .../60-cuda-toolkit-12-8_12.8.0-1_amd64.deb ...\n",
      "Unpacking cuda-toolkit-12-8 (12.8.0-1) ...\n",
      "Selecting previously unselected package libnvinfer10.\n",
      "Preparing to unpack .../61-libnvinfer10_10.8.0.43-1+cuda12.8_amd64.deb ...\n",
      "Unpacking libnvinfer10 (10.8.0.43-1+cuda12.8) ...\n",
      "Selecting previously unselected package libnvinfer-lean10.\n",
      "Preparing to unpack .../62-libnvinfer-lean10_10.8.0.43-1+cuda12.8_amd64.deb ...\n",
      "Unpacking libnvinfer-lean10 (10.8.0.43-1+cuda12.8) ...\n",
      "Selecting previously unselected package libnvinfer-plugin10.\n",
      "Preparing to unpack .../63-libnvinfer-plugin10_10.8.0.43-1+cuda12.8_amd64.deb ...\n",
      "Unpacking libnvinfer-plugin10 (10.8.0.43-1+cuda12.8) ...\n",
      "Selecting previously unselected package libnvinfer-vc-plugin10.\n",
      "Preparing to unpack .../64-libnvinfer-vc-plugin10_10.8.0.43-1+cuda12.8_amd64.deb ...\n",
      "Unpacking libnvinfer-vc-plugin10 (10.8.0.43-1+cuda12.8) ...\n",
      "Selecting previously unselected package libnvinfer-dispatch10.\n",
      "Preparing to unpack .../65-libnvinfer-dispatch10_10.8.0.43-1+cuda12.8_amd64.deb ...\n",
      "Unpacking libnvinfer-dispatch10 (10.8.0.43-1+cuda12.8) ...\n",
      "Selecting previously unselected package libnvonnxparsers10.\n",
      "Preparing to unpack .../66-libnvonnxparsers10_10.8.0.43-1+cuda12.8_amd64.deb ...\n",
      "Unpacking libnvonnxparsers10 (10.8.0.43-1+cuda12.8) ...\n",
      "Selecting previously unselected package libnvinfer-bin.\n",
      "Preparing to unpack .../67-libnvinfer-bin_10.8.0.43-1+cuda12.8_amd64.deb ...\n",
      "Unpacking libnvinfer-bin (10.8.0.43-1+cuda12.8) ...\n",
      "Selecting previously unselected package libnvinfer-headers-dev.\n",
      "Preparing to unpack .../68-libnvinfer-headers-dev_10.8.0.43-1+cuda12.8_amd64.deb ...\n",
      "Unpacking libnvinfer-headers-dev (10.8.0.43-1+cuda12.8) ...\n",
      "Selecting previously unselected package libnvinfer-dev.\n",
      "Preparing to unpack .../69-libnvinfer-dev_10.8.0.43-1+cuda12.8_amd64.deb ...\n",
      "Unpacking libnvinfer-dev (10.8.0.43-1+cuda12.8) ...\n",
      "Selecting previously unselected package libnvinfer-dispatch-dev.\n",
      "Preparing to unpack .../70-libnvinfer-dispatch-dev_10.8.0.43-1+cuda12.8_amd64.deb ...\n",
      "Unpacking libnvinfer-dispatch-dev (10.8.0.43-1+cuda12.8) ...\n",
      "Selecting previously unselected package libnvinfer-headers-plugin-dev.\n",
      "Preparing to unpack .../71-libnvinfer-headers-plugin-dev_10.8.0.43-1+cuda12.8_amd64.deb ...\n",
      "Unpacking libnvinfer-headers-plugin-dev (10.8.0.43-1+cuda12.8) ...\n",
      "Selecting previously unselected package libnvinfer-lean-dev.\n",
      "Preparing to unpack .../72-libnvinfer-lean-dev_10.8.0.43-1+cuda12.8_amd64.deb ...\n",
      "Unpacking libnvinfer-lean-dev (10.8.0.43-1+cuda12.8) ...\n",
      "Selecting previously unselected package libnvinfer-plugin-dev.\n",
      "Preparing to unpack .../73-libnvinfer-plugin-dev_10.8.0.43-1+cuda12.8_amd64.deb ...\n",
      "Unpacking libnvinfer-plugin-dev (10.8.0.43-1+cuda12.8) ...\n",
      "Selecting previously unselected package libnvinfer-vc-plugin-dev.\n",
      "Preparing to unpack .../74-libnvinfer-vc-plugin-dev_10.8.0.43-1+cuda12.8_amd64.deb ...\n",
      "Unpacking libnvinfer-vc-plugin-dev (10.8.0.43-1+cuda12.8) ...\n",
      "Selecting previously unselected package libnvonnxparsers-dev.\n",
      "Preparing to unpack .../75-libnvonnxparsers-dev_10.8.0.43-1+cuda12.8_amd64.deb ...\n",
      "Unpacking libnvonnxparsers-dev (10.8.0.43-1+cuda12.8) ...\n",
      "Selecting previously unselected package libnvinfer-samples.\n",
      "Preparing to unpack .../76-libnvinfer-samples_10.8.0.43-1+cuda12.8_all.deb ...\n",
      "Unpacking libnvinfer-samples (10.8.0.43-1+cuda12.8) ...\n",
      "Selecting previously unselected package python3-libnvinfer.\n",
      "Preparing to unpack .../77-python3-libnvinfer_10.8.0.43-1+cuda12.8_amd64.deb ...\n",
      "Unpacking python3-libnvinfer (10.8.0.43-1+cuda12.8) ...\n",
      "Selecting previously unselected package python3-libnvinfer-lean.\n",
      "Preparing to unpack .../78-python3-libnvinfer-lean_10.8.0.43-1+cuda12.8_amd64.deb ...\n",
      "Unpacking python3-libnvinfer-lean (10.8.0.43-1+cuda12.8) ...\n",
      "Selecting previously unselected package python3-libnvinfer-dispatch.\n",
      "Preparing to unpack .../79-python3-libnvinfer-dispatch_10.8.0.43-1+cuda12.8_amd64.deb ...\n",
      "Unpacking python3-libnvinfer-dispatch (10.8.0.43-1+cuda12.8) ...\n",
      "Selecting previously unselected package python3-libnvinfer-dev.\n",
      "Preparing to unpack .../80-python3-libnvinfer-dev_10.8.0.43-1+cuda12.8_amd64.deb ...\n",
      "Unpacking python3-libnvinfer-dev (10.8.0.43-1+cuda12.8) ...\n",
      "Selecting previously unselected package tensorrt.\n",
      "Preparing to unpack .../81-tensorrt_10.8.0.43-1+cuda12.8_amd64.deb ...\n",
      "Unpacking tensorrt (10.8.0.43-1+cuda12.8) ...\n",
      "Setting up cuda-toolkit-config-common (12.8.57-1) ...\n",
      "Setting up cuda-nvprof-12-8 (12.8.57-1) ...\n",
      "Setting up nsight-compute-2025.1.0 (2025.1.0.14-1) ...\n",
      "Setting up libnvinfer-headers-dev (10.8.0.43-1+cuda12.8) ...\n",
      "Setting up cuda-cuobjdump-12-8 (12.8.55-1) ...\n",
      "Setting up cuda-nvrtc-12-8 (12.8.61-1) ...\n",
      "Setting up cuda-sanitizer-12-8 (12.8.55-1) ...\n",
      "Setting up cuda-nvvm-12-8 (12.8.61-1) ...\n",
      "Setting up cuda-nvprune-12-8 (12.8.55-1) ...\n",
      "Setting up libnvinfer10 (10.8.0.43-1+cuda12.8) ...\n",
      "Setting up cuda-cupti-12-8 (12.8.57-1) ...\n",
      "Setting up libnvinfer-plugin10 (10.8.0.43-1+cuda12.8) ...\n",
      "Setting up cuda-nvml-dev-12-8 (12.8.55-1) ...\n",
      "Setting up libnvinfer-vc-plugin10 (10.8.0.43-1+cuda12.8) ...\n",
      "Setting up cuda-toolkit-12-8-config-common (12.8.57-1) ...\n",
      "Setting alternatives\n",
      "update-alternatives: using /usr/local/cuda-12.8 to provide /usr/local/cuda (cuda) in auto mode\n",
      "update-alternatives: using /usr/local/cuda-12.8 to provide /usr/local/cuda-12 (cuda-12) in auto mode\n",
      "Setting up libnvonnxparsers10 (10.8.0.43-1+cuda12.8) ...\n",
      "Setting up libnvinfer-dispatch10 (10.8.0.43-1+cuda12.8) ...\n",
      "Setting up cuda-nvrtc-dev-12-8 (12.8.61-1) ...\n",
      "Setting up libnvinfer-dispatch-dev (10.8.0.43-1+cuda12.8) ...\n",
      "Setting up cuda-driver-dev-12-8 (12.8.57-1) ...\n",
      "Setting up nsight-systems-2024.6.2 (2024.6.2.225-246235244400v0) ...\n",
      "update-alternatives: using /opt/nvidia/nsight-systems/2024.6.2/target-linux-x64/nsys to provide /usr/local/bin/nsys (nsys) in manual mode\n",
      "update-alternatives: using /opt/nvidia/nsight-systems/2024.6.2/host-linux-x64/nsys-ui to provide /usr/local/bin/nsys-ui (nsys-ui) in manual mode\n",
      "Setting up cuda-documentation-12-8 (12.8.55-1) ...\n",
      "Setting up cuda-nvvp-12-8 (12.8.57-1) ...\n",
      "Setting up cuda-profiler-api-12-8 (12.8.55-1) ...\n",
      "Setting up libnvinfer-dev (10.8.0.43-1+cuda12.8) ...\n",
      "Setting up libnvinfer-lean10 (10.8.0.43-1+cuda12.8) ...\n",
      "Setting up cuda-nvdisasm-12-8 (12.8.55-1) ...\n",
      "Setting up cuda-nsight-systems-12-8 (12.8.0-1) ...\n",
      "Setting up libnvonnxparsers-dev (10.8.0.43-1+cuda12.8) ...\n",
      "Setting up python3-libnvinfer-dispatch (10.8.0.43-1+cuda12.8) ...\n",
      "Setting up cuda-nsight-compute-12-8 (12.8.0-1) ...\n",
      "Setting up libnvinfer-headers-plugin-dev (10.8.0.43-1+cuda12.8) ...\n",
      "Setting up cuda-cuxxfilt-12-8 (12.8.55-1) ...\n",
      "Setting up cuda-nvtx-12-8 (12.8.55-1) ...\n",
      "Setting up cuda-cccl-12-8 (12.8.55-1) ...\n",
      "Setting up cuda-toolkit-12-config-common (12.8.57-1) ...\n",
      "Setting up cuda-cudart-12-8 (12.8.57-1) ...\n",
      "Setting up cuda-cupti-dev-12-8 (12.8.57-1) ...\n",
      "Setting up cuda-nsight-12-8 (12.8.55-1) ...\n",
      "Setting up cuda-cudart-dev-12-8 (12.8.57-1) ...\n",
      "Setting up gds-tools-12-8 (1.13.0.11-1) ...\n",
      "Setting up libnvinfer-lean-dev (10.8.0.43-1+cuda12.8) ...\n",
      "Setting up cuda-crt-12-8 (12.8.61-1) ...\n",
      "Setting up libcufft-12-8 (11.3.3.41-1) ...\n",
      "Setting up libcublas-12-8 (12.8.3.14-1) ...\n",
      "Setting up libcusparse-12-8 (12.5.7.53-1) ...\n",
      "Setting up python3-libnvinfer (10.8.0.43-1+cuda12.8) ...\n",
      "Setting up python3-libnvinfer-lean (10.8.0.43-1+cuda12.8) ...\n",
      "Setting up libnvjitlink-12-8 (12.8.61-1) ...\n",
      "Setting up libcurand-12-8 (10.3.9.55-1) ...\n",
      "Setting up libcufft-dev-12-8 (11.3.3.41-1) ...\n",
      "Setting up libnpp-12-8 (12.3.3.65-1) ...\n",
      "Setting up libnvinfer-plugin-dev (10.8.0.43-1+cuda12.8) ...\n",
      "Setting up libnpp-dev-12-8 (12.3.3.65-1) ...\n",
      "Setting up cuda-opencl-12-8 (12.8.55-1) ...\n",
      "Setting up libnvinfer-vc-plugin-dev (10.8.0.43-1+cuda12.8) ...\n",
      "Setting up libnvinfer-bin (10.8.0.43-1+cuda12.8) ...\n",
      "Setting up libnvinfer-samples (10.8.0.43-1+cuda12.8) ...\n",
      "Setting up cuda-gdb-12-8 (12.8.55-1) ...\n",
      "Setting up libnvjitlink-dev-12-8 (12.8.61-1) ...\n",
      "Setting up libcusolver-12-8 (11.7.2.55-1) ...\n",
      "Setting up libnvfatbin-12-8 (12.8.55-1) ...\n",
      "Setting up libnvjpeg-12-8 (12.3.5.57-1) ...\n",
      "Setting up libcurand-dev-12-8 (10.3.9.55-1) ...\n",
      "Setting up libcusolver-dev-12-8 (11.7.2.55-1) ...\n",
      "Setting up libcufile-12-8 (1.13.0.11-1) ...\n",
      "Setting alternatives\n",
      "update-alternatives: using /usr/local/cuda-12.8/gds/cufile.json to provide /etc/cufile.json (cufile.json) in auto mode\n",
      "Setting up libcusparse-dev-12-8 (12.5.7.53-1) ...\n",
      "Setting up libnvfatbin-dev-12-8 (12.8.55-1) ...\n",
      "Setting up libcublas-dev-12-8 (12.8.3.14-1) ...\n",
      "Setting up cuda-nvcc-12-8 (12.8.61-1) ...\n",
      "Setting up libnvjpeg-dev-12-8 (12.3.5.57-1) ...\n",
      "Setting up python3-libnvinfer-dev (10.8.0.43-1+cuda12.8) ...\n",
      "Setting up libcufile-dev-12-8 (1.13.0.11-1) ...\n",
      "Setting up cuda-opencl-dev-12-8 (12.8.55-1) ...\n",
      "Setting up cuda-command-line-tools-12-8 (12.8.0-1) ...\n",
      "Setting up tensorrt (10.8.0.43-1+cuda12.8) ...\n",
      "Setting up cuda-compiler-12-8 (12.8.0-1) ...\n",
      "Setting up cuda-libraries-dev-12-8 (12.8.0-1) ...\n",
      "Setting up cuda-libraries-12-8 (12.8.0-1) ...\n",
      "Setting up cuda-visual-tools-12-8 (12.8.0-1) ...\n",
      "Setting up cuda-tools-12-8 (12.8.0-1) ...\n",
      "Setting up cuda-toolkit-12-8 (12.8.0-1) ...\n",
      "Processing triggers for libc-bin (2.39-0ubuntu8.3) ...\n"
     ]
    },
    {
     "name": "stderr",
     "output_type": "stream",
     "text": [
      "debconf: unable to initialize frontend: Dialog\n",
      "debconf: (Dialog frontend will not work on a dumb terminal, an emacs shell buffer, or without a controlling terminal.)\n",
      "debconf: falling back to frontend: Readline\n",
      "debconf: unable to initialize frontend: Readline\n",
      "debconf: (This frontend requires a controlling tty.)\n",
      "debconf: falling back to frontend: Teletype\n",
      "\n",
      "Running kernel seems to be up-to-date.\n",
      "\n",
      "The processor microcode seems to be up-to-date.\n",
      "\n",
      "No services need to be restarted.\n",
      "\n",
      "No containers need to be restarted.\n",
      "\n",
      "No user sessions are running outdated binaries.\n",
      "\n",
      "No VM guests are running outdated hypervisor (qemu) binaries on this host.\n"
     ]
    },
    {
     "data": {
      "text/plain": [
       "<Result cmd='sudo apt-get -y install cuda-toolkit-12-8 tensorrt' exited=0>"
      ]
     },
     "execution_count": 11,
     "metadata": {},
     "output_type": "execute_result"
    }
   ],
   "source": [
    "s.execute(\"sudo apt-get -y install cuda-toolkit-12-8 tensorrt\")"
   ]
  },
  {
   "cell_type": "markdown",
   "metadata": {},
   "source": [
    "In the following cell, we will verify that we can see our NVIDIA GPUs from inside a container, by passing `--gpus-all`. (The `-rm` flag says to clean up the container and remove its filesystem when it finishes running.)"
   ]
  },
  {
   "cell_type": "code",
   "execution_count": 12,
   "metadata": {
    "tags": []
   },
   "outputs": [
    {
     "data": {
      "text/plain": [
       "<Result cmd='  ' exited=0>"
      ]
     },
     "execution_count": 12,
     "metadata": {},
     "output_type": "execute_result"
    }
   ],
   "source": [
    "s.execute(\"  \")"
   ]
  },
  {
   "cell_type": "markdown",
   "metadata": {},
   "source": [
    "## Triton server image"
   ]
  },
  {
   "cell_type": "code",
   "execution_count": 13,
   "metadata": {},
   "outputs": [
    {
     "name": "stdout",
     "output_type": "stream",
     "text": [
      "24.10-py3: Pulling from nvidia/tritonserver\n",
      "6414378b6477: Pulling fs layer\n",
      "95632a7bc3a8: Pulling fs layer\n",
      "4f4fb700ef54: Pulling fs layer\n",
      "42fd5783a0f9: Pulling fs layer\n",
      "86abba0172c5: Pulling fs layer\n",
      "4af3f9032791: Pulling fs layer\n",
      "e6f5e18001c2: Pulling fs layer\n",
      "6da051397311: Pulling fs layer\n",
      "c2ad6da399ba: Pulling fs layer\n",
      "5738d44ce3f2: Pulling fs layer\n",
      "42fd5783a0f9: Waiting\n",
      "86abba0172c5: Waiting\n",
      "ca8c93fac024: Pulling fs layer\n",
      "b5e5a67ac549: Pulling fs layer\n",
      "4af3f9032791: Waiting\n",
      "9ded5c341569: Pulling fs layer\n",
      "077e4aef015d: Pulling fs layer\n",
      "1e885c3dbc29: Pulling fs layer\n",
      "9189980ccfd7: Pulling fs layer\n",
      "9ded5c341569: Waiting\n",
      "580e3d1f6652: Pulling fs layer\n",
      "077e4aef015d: Waiting\n",
      "1e885c3dbc29: Waiting\n",
      "5738d44ce3f2: Waiting\n",
      "e6f5e18001c2: Waiting\n",
      "76afc0ed6d6b: Pulling fs layer\n",
      "c2ad6da399ba: Waiting\n",
      "b5e5a67ac549: Waiting\n",
      "88a8e4229993: Pulling fs layer\n",
      "61e60250d71b: Pulling fs layer\n",
      "6da051397311: Waiting\n",
      "ee4d1a2201f9: Pulling fs layer\n",
      "61e60250d71b: Waiting\n",
      "7284127b8cc7: Pulling fs layer\n",
      "e7a7c3248180: Pulling fs layer\n",
      "580e3d1f6652: Waiting\n",
      "ee4d1a2201f9: Waiting\n",
      "7284127b8cc7: Waiting\n",
      "8ea15d84cd2b: Pulling fs layer\n",
      "e7a7c3248180: Waiting\n",
      "8ea15d84cd2b: Waiting\n",
      "76afc0ed6d6b: Waiting\n",
      "88a8e4229993: Waiting\n",
      "4f4fb700ef54: Download complete\n",
      "6414378b6477: Verifying Checksum\n",
      "6414378b6477: Download complete\n",
      "86abba0172c5: Verifying Checksum\n",
      "86abba0172c5: Download complete\n",
      "95632a7bc3a8: Verifying Checksum\n",
      "95632a7bc3a8: Download complete\n",
      "e6f5e18001c2: Verifying Checksum\n",
      "e6f5e18001c2: Download complete\n",
      "6da051397311: Download complete\n",
      "c2ad6da399ba: Download complete\n",
      "42fd5783a0f9: Verifying Checksum\n",
      "42fd5783a0f9: Download complete\n",
      "5738d44ce3f2: Verifying Checksum\n",
      "5738d44ce3f2: Download complete\n",
      "ca8c93fac024: Verifying Checksum\n",
      "ca8c93fac024: Download complete\n",
      "9ded5c341569: Verifying Checksum\n",
      "9ded5c341569: Download complete\n",
      "b5e5a67ac549: Verifying Checksum\n",
      "b5e5a67ac549: Download complete\n",
      "1e885c3dbc29: Download complete\n",
      "6414378b6477: Pull complete\n",
      "9189980ccfd7: Verifying Checksum\n",
      "9189980ccfd7: Download complete\n",
      "077e4aef015d: Verifying Checksum\n",
      "077e4aef015d: Download complete\n",
      "76afc0ed6d6b: Verifying Checksum\n",
      "76afc0ed6d6b: Download complete\n",
      "88a8e4229993: Verifying Checksum\n",
      "88a8e4229993: Download complete\n",
      "61e60250d71b: Verifying Checksum\n",
      "61e60250d71b: Download complete\n",
      "ee4d1a2201f9: Download complete\n",
      "95632a7bc3a8: Pull complete\n",
      "4f4fb700ef54: Pull complete\n",
      "580e3d1f6652: Verifying Checksum\n",
      "580e3d1f6652: Download complete\n",
      "e7a7c3248180: Verifying Checksum\n",
      "e7a7c3248180: Download complete\n",
      "8ea15d84cd2b: Verifying Checksum\n",
      "8ea15d84cd2b: Download complete\n",
      "42fd5783a0f9: Pull complete\n",
      "86abba0172c5: Pull complete\n",
      "7284127b8cc7: Verifying Checksum\n",
      "7284127b8cc7: Download complete\n",
      "4af3f9032791: Verifying Checksum\n",
      "4af3f9032791: Download complete\n",
      "4af3f9032791: Pull complete\n",
      "e6f5e18001c2: Pull complete\n",
      "6da051397311: Pull complete\n",
      "c2ad6da399ba: Pull complete\n",
      "5738d44ce3f2: Pull complete\n",
      "ca8c93fac024: Pull complete\n",
      "b5e5a67ac549: Pull complete\n",
      "9ded5c341569: Pull complete\n",
      "077e4aef015d: Pull complete\n",
      "1e885c3dbc29: Pull complete\n",
      "9189980ccfd7: Pull complete\n",
      "580e3d1f6652: Pull complete\n",
      "76afc0ed6d6b: Pull complete\n",
      "88a8e4229993: Pull complete\n",
      "61e60250d71b: Pull complete\n",
      "ee4d1a2201f9: Pull complete\n",
      "7284127b8cc7: Pull complete\n",
      "e7a7c3248180: Pull complete\n",
      "8ea15d84cd2b: Pull complete\n",
      "Digest: sha256:48f5247728bbcf290bea0dbdf9ccc9d803f33fc472307167ce612ae9bab9b870\n",
      "Status: Downloaded newer image for nvcr.io/nvidia/tritonserver:24.10-py3\n",
      "nvcr.io/nvidia/tritonserver:24.10-py3\n"
     ]
    },
    {
     "data": {
      "text/plain": [
       "<Result cmd='docker pull nvcr.io/nvidia/tritonserver:24.10-py3' exited=0>"
      ]
     },
     "execution_count": 13,
     "metadata": {},
     "output_type": "execute_result"
    }
   ],
   "source": [
    "s.execute(\"docker pull nvcr.io/nvidia/tritonserver:24.10-py3\")"
   ]
  },
  {
   "cell_type": "markdown",
   "metadata": {},
   "source": [
    "## ====================== EOF for week 6 ==========================="
   ]
  },
  {
   "cell_type": "markdown",
   "metadata": {},
   "source": [
    "## =============================================="
   ]
  },
  {
   "cell_type": "markdown",
   "metadata": {},
   "source": [
    "Let’s pull the actual container image that we are going to use, which is a Jupyter notebook server with PyTorch and CUDA libraries:"
   ]
  },
  {
   "cell_type": "code",
   "execution_count": null,
   "metadata": {
    "tags": []
   },
   "outputs": [],
   "source": [
    "# s.execute(\"docker rm -f torchnb; docker run -d -p 8888:8888 --gpus all --name torchnb quay.io/jupyter/pytorch-notebook:cuda12-pytorch-2.5.1\")"
   ]
  },
  {
   "cell_type": "markdown",
   "metadata": {},
   "source": [
    "There’s one more thing we must do before we can start out Jupyter server. Rather than expose the Jupyter server to the Internet, we are going to set up an SSH tunnel from our local terminal to our server, and access the service through that tunnel.\n",
    "\n",
    "Here’s how it works: In your *local* terminal, run\n",
    "\n",
    "    ssh -L 8888:127.0.0.1:8888 -i ~/.ssh/id_rsa_chameleon cc@A.B.C.D\n",
    "\n",
    "where,\n",
    "\n",
    "-   instead of `~/.ssh/id_rsa_chameleon`, substitute the path to your key\n",
    "-   and instead of `A.B.C.D`, substitute the floating IP associated with your server\n",
    "\n",
    "This will configure the SSH session so that when you connect to port 8888 locally, it will be forwarded over the SSH tunnel to port 8888 on the host at the other end of the SSH connection.\n",
    "\n",
    "SSH tunneling is a convenient way to access services on a remote machine when you don’t necessarily want to expose those services to the Internet (for example: if they are not secured from unauthorized access)."
   ]
  },
  {
   "cell_type": "markdown",
   "metadata": {},
   "source": [
    "Finally, run"
   ]
  },
  {
   "cell_type": "code",
   "execution_count": null,
   "metadata": {
    "tags": []
   },
   "outputs": [],
   "source": [
    "s.execute(\"docker logs torchnb\")"
   ]
  },
  {
   "cell_type": "markdown",
   "metadata": {},
   "source": [
    "Look for the line of output in the form:\n",
    "\n",
    "    http://127.0.0.1:8888/lab?token=9c935d49c29ea28ad94a4b0b046ed93cffe3839a9ed76e0d\n",
    "\n",
    "and copy it in your own browser to open the Jupyter environment."
   ]
  },
  {
   "cell_type": "code",
   "execution_count": null,
   "metadata": {
    "tags": []
   },
   "outputs": [],
   "source": [
    "s.execute(\"docker logs torchnb\")"
   ]
  }
 ],
 "metadata": {
  "kernelspec": {
   "display_name": "Python 3 (ipykernel)",
   "language": "python",
   "name": "python3"
  },
  "language_info": {
   "codemirror_mode": {
    "name": "ipython",
    "version": 3
   },
   "file_extension": ".py",
   "mimetype": "text/x-python",
   "name": "python",
   "nbconvert_exporter": "python",
   "pygments_lexer": "ipython3",
   "version": "3.10.9"
  }
 },
 "nbformat": 4,
 "nbformat_minor": 4
}
